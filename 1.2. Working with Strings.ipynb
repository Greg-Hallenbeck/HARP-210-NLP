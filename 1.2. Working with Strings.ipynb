{
 "cells": [
  {
   "cell_type": "markdown",
   "id": "2fce64c6-b282-4101-b6f0-d388d7cfcc60",
   "metadata": {},
   "source": [
    "# Strings and Lists"
   ]
  },
  {
   "cell_type": "markdown",
   "id": "fdeeaa62-9759-4bb4-b03c-2394a83137b8",
   "metadata": {},
   "source": [
    "## Skills\n",
    "\n",
    "1. Understand datatypes and basic python operations.\n",
    "2. Use basic functions.\n",
    "3. Store data in variables.\n",
    "4. **Manipulate strings using string methods.**\n",
    "6. **Use lists to store multiple pieces of data.**"
   ]
  },
  {
   "cell_type": "markdown",
   "id": "28bf6a29-af53-4cd8-9200-4b7266af5ce5",
   "metadata": {},
   "source": [
    "## Vocabulary List\n",
    "\n",
    "**list.** A Python data type which can contain multiple values, not just one.\n",
    "\n",
    "**method.** A special type of function which belongs to a string, list, or other kind of object. Instead of calling just the function, you write the function after the object it belongs to with a `.`. For example, if a variable *name* is a string, then `name.upper()` is calling *name*'s `.upper()` method.\n",
    "\n",
    "**slicing.** A way of selecting only some entries in a string, list, or other variable containing multiple values. When slicing, put the start and ending+1 position inside square brackets `[]`.\n",
    "\n",
    "**tokenization.** The process of splitting text into its constituent words or other pieces, depending on language and context.\n",
    "\n",
    "**set.** A Python data type similar to a list, but it can only contain one of each item. This will be very useful when finding unique words."
   ]
  },
  {
   "cell_type": "markdown",
   "id": "0c70c0c0-c222-4536-a134-2d0d613f81ff",
   "metadata": {},
   "source": [
    "## Slicing Strings\n",
    "\n",
    "**Slicing** is a way to select only part of a string. To slice a string, put the starting and ending postions that you want inside of square brackets `[]`, separated by a colon `:`."
   ]
  },
  {
   "cell_type": "code",
   "execution_count": 2,
   "id": "0a1b4ad5-feb8-49d8-822d-6eff689c4506",
   "metadata": {},
   "outputs": [
    {
     "data": {
      "text/plain": [
       "'app'"
      ]
     },
     "execution_count": 2,
     "metadata": {},
     "output_type": "execute_result"
    }
   ],
   "source": [
    "fruit = \"apple\"\n",
    "\n",
    "fruit[0:3]"
   ]
  },
  {
   "cell_type": "markdown",
   "id": "b9d4a849-3a72-4206-8b63-9731b82c29e4",
   "metadata": {},
   "source": [
    "There are a few things to note here:\n",
    "\n",
    "* The positions in a string start from 0. So the 0th position in `fruit` is the letter \"a\", the 1st is \"p\", the 2nd is another \"p\", &c.\n",
    "\n",
    "* The starting index is *inclusive*, and the ending is *exclusive*. That means that your slice will contain the letter at the frst index, but will not contain the letter at the ending index.\n",
    "\n",
    "* There is a special index, blank, which means \"the last position in the string + 1\" when it is the end position.\n",
    "\n",
    "* If you omit the `:` and final position altogether, you get one single letter at the start position.\n",
    "\n",
    "Let's try a few more examples. See if you can predict what the result will be."
   ]
  },
  {
   "cell_type": "code",
   "execution_count": 3,
   "id": "ace32a36-f525-4b37-8557-055506f8e38c",
   "metadata": {},
   "outputs": [
    {
     "data": {
      "text/plain": [
       "'ppl'"
      ]
     },
     "execution_count": 3,
     "metadata": {},
     "output_type": "execute_result"
    }
   ],
   "source": [
    "fruit[1:4]"
   ]
  },
  {
   "cell_type": "code",
   "execution_count": 4,
   "id": "1ac57575-adbe-47a8-8ae2-6de6b6e28906",
   "metadata": {},
   "outputs": [
    {
     "data": {
      "text/plain": [
       "'a'"
      ]
     },
     "execution_count": 4,
     "metadata": {},
     "output_type": "execute_result"
    }
   ],
   "source": [
    "fruit[0]"
   ]
  },
  {
   "cell_type": "code",
   "execution_count": 5,
   "id": "50120c01-e15c-4779-94bd-187820c6541c",
   "metadata": {},
   "outputs": [],
   "source": [
    "author = \"octavia butler\""
   ]
  },
  {
   "cell_type": "code",
   "execution_count": 6,
   "id": "5fda48e8-41ea-4774-a362-198bce6895c2",
   "metadata": {},
   "outputs": [
    {
     "data": {
      "text/plain": [
       "'octav'"
      ]
     },
     "execution_count": 6,
     "metadata": {},
     "output_type": "execute_result"
    }
   ],
   "source": [
    "author[0:5]"
   ]
  },
  {
   "cell_type": "code",
   "execution_count": 7,
   "id": "fa0802a7-6068-4615-b5ce-dfa2be3edddc",
   "metadata": {},
   "outputs": [
    {
     "data": {
      "text/plain": [
       "' '"
      ]
     },
     "execution_count": 7,
     "metadata": {},
     "output_type": "execute_result"
    }
   ],
   "source": [
    "author[7]"
   ]
  },
  {
   "cell_type": "code",
   "execution_count": 8,
   "id": "c4ee24f4-c63b-48af-a73b-706fe7c21d18",
   "metadata": {},
   "outputs": [
    {
     "data": {
      "text/plain": [
       "'butler'"
      ]
     },
     "execution_count": 8,
     "metadata": {},
     "output_type": "execute_result"
    }
   ],
   "source": [
    "author[8:]"
   ]
  },
  {
   "cell_type": "code",
   "execution_count": 9,
   "id": "c12917c6-6e39-4f8a-af75-d2752149d9be",
   "metadata": {},
   "outputs": [
    {
     "data": {
      "text/plain": [
       "'oct'"
      ]
     },
     "execution_count": 9,
     "metadata": {},
     "output_type": "execute_result"
    }
   ],
   "source": [
    "start = 0\n",
    "end = 3\n",
    "author[start:end]"
   ]
  },
  {
   "cell_type": "markdown",
   "id": "a9cb998f-6722-44da-a12b-50588ce34653",
   "metadata": {},
   "source": [
    "## String Methods\n",
    "\n",
    "There are [many useful string methods](https://www.w3schools.com/python/python_ref_string.asp) that will let us start manipulating text. Here are a few that will come in handy:\n",
    "\n",
    "* `.lower()` converts a string entirely to lowercase letters. You can probably guess what `.upper()` does, as well.\n",
    "* `.replace()` replaces one substring with another in the larger string.\n",
    "* `.find()` allows you to find where a letter, word, or phrase appears within a larger string.\n",
    "* `.count()` tells you how many times some substring appears in the string.\n",
    "* And of course, we've seen the `len()` function already, which isn't a method.\n",
    "\n",
    "Let's see them in usase:"
   ]
  },
  {
   "cell_type": "code",
   "execution_count": 10,
   "id": "6ab51212-9ff7-4901-86dd-0ebc22c5dcba",
   "metadata": {},
   "outputs": [],
   "source": [
    "movie = \"The Fast And The Furious\""
   ]
  },
  {
   "cell_type": "code",
   "execution_count": 11,
   "id": "982346d6-947d-4a3e-b779-7d3be890a4e6",
   "metadata": {},
   "outputs": [
    {
     "data": {
      "text/plain": [
       "'THE FAST AND THE FURIOUS'"
      ]
     },
     "execution_count": 11,
     "metadata": {},
     "output_type": "execute_result"
    }
   ],
   "source": [
    "movie.upper()"
   ]
  },
  {
   "cell_type": "code",
   "execution_count": 12,
   "id": "a608db5e-eade-4eb1-bb25-9236cc1e6774",
   "metadata": {},
   "outputs": [
    {
     "data": {
      "text/plain": [
       "'The Quick And The Furious'"
      ]
     },
     "execution_count": 12,
     "metadata": {},
     "output_type": "execute_result"
    }
   ],
   "source": [
    "movie.replace(\"Fast\", \"Quick\")"
   ]
  },
  {
   "cell_type": "code",
   "execution_count": 13,
   "id": "7f3b4baa-8016-4732-a64d-88445c4dab1f",
   "metadata": {},
   "outputs": [
    {
     "data": {
      "text/plain": [
       "4"
      ]
     },
     "execution_count": 13,
     "metadata": {},
     "output_type": "execute_result"
    }
   ],
   "source": [
    "movie.find(\"Fast\")"
   ]
  },
  {
   "cell_type": "code",
   "execution_count": 14,
   "id": "44b37c2a-06af-4dd1-80de-1af1d12d913e",
   "metadata": {},
   "outputs": [
    {
     "data": {
      "text/plain": [
       "2"
      ]
     },
     "execution_count": 14,
     "metadata": {},
     "output_type": "execute_result"
    }
   ],
   "source": [
    "movie.count(\"The\")"
   ]
  },
  {
   "cell_type": "code",
   "execution_count": 15,
   "id": "21ebd02b-fe57-43f9-9a9f-95ab8b697a1a",
   "metadata": {},
   "outputs": [
    {
     "data": {
      "text/plain": [
       "24"
      ]
     },
     "execution_count": 15,
     "metadata": {},
     "output_type": "execute_result"
    }
   ],
   "source": [
    "len(movie)"
   ]
  },
  {
   "cell_type": "markdown",
   "id": "9ca31173-a8b1-4332-8c02-6df3f33adbc6",
   "metadata": {},
   "source": [
    "We can combine these to do more complex tasks, like removing the first word from a string:"
   ]
  },
  {
   "cell_type": "code",
   "execution_count": 16,
   "id": "805e461c-e3b5-4217-b5a9-3128222f5fa4",
   "metadata": {},
   "outputs": [
    {
     "data": {
      "text/plain": [
       "'Fast And The Furious'"
      ]
     },
     "execution_count": 16,
     "metadata": {},
     "output_type": "execute_result"
    }
   ],
   "source": [
    "firstspace = movie.find(\" \")\n",
    "movie[firstspace+1:]"
   ]
  },
  {
   "cell_type": "markdown",
   "id": "2ab3d959-d8c9-451f-935b-58704bd5936a",
   "metadata": {},
   "source": [
    "The return value from many of these functions is also a string, so they can be chained together:"
   ]
  },
  {
   "cell_type": "code",
   "execution_count": 17,
   "id": "a73d1883-c8a8-4d00-a24d-ebe8ad698e34",
   "metadata": {},
   "outputs": [
    {
     "data": {
      "text/plain": [
       "'FIRST'"
      ]
     },
     "execution_count": 17,
     "metadata": {},
     "output_type": "execute_result"
    }
   ],
   "source": [
    "movie[4:8].upper().replace(\"A\",\"IR\")"
   ]
  },
  {
   "cell_type": "markdown",
   "id": "2161a57d-d1f3-4125-a11a-21fc32802e36",
   "metadata": {},
   "source": [
    "## Lists\n",
    "\n",
    "A **list** contains multiple values. When defining one, each entry in the list is separated by commas and the whole list is surrounded by square brackets:"
   ]
  },
  {
   "cell_type": "code",
   "execution_count": 18,
   "id": "e63e4a73-7438-49fe-86a8-792c5e4f9a53",
   "metadata": {},
   "outputs": [
    {
     "data": {
      "text/plain": [
       "['apples', 'curry', 'yogurt', 'bread', 'durrian']"
      ]
     },
     "execution_count": 18,
     "metadata": {},
     "output_type": "execute_result"
    }
   ],
   "source": [
    "groceries = [\"apples\", \"curry\", \"yogurt\", \"bread\", \"durrian\"]\n",
    "\n",
    "groceries"
   ]
  },
  {
   "cell_type": "markdown",
   "id": "1b1918c6-92c6-41ba-a9ca-6f89db72ff51",
   "metadata": {},
   "source": [
    "Lists are similar to strings in that they have a length and can be sliced. Note that the length is the *number of items* it contains. Similarly, when slicing, you are indicating *which* item you want, not parts of each individual item."
   ]
  },
  {
   "cell_type": "code",
   "execution_count": 19,
   "id": "037f7a72-a373-4dee-acda-5148f9a836e6",
   "metadata": {},
   "outputs": [
    {
     "data": {
      "text/plain": [
       "5"
      ]
     },
     "execution_count": 19,
     "metadata": {},
     "output_type": "execute_result"
    }
   ],
   "source": [
    "len(groceries)"
   ]
  },
  {
   "cell_type": "code",
   "execution_count": 20,
   "id": "1fe75574-e4f1-4d23-a3a0-01d9e920d29b",
   "metadata": {},
   "outputs": [
    {
     "data": {
      "text/plain": [
       "'bread'"
      ]
     },
     "execution_count": 20,
     "metadata": {},
     "output_type": "execute_result"
    }
   ],
   "source": [
    "groceries[3]"
   ]
  },
  {
   "cell_type": "markdown",
   "id": "cba6253e-be8a-4f3e-b85f-51c0aabb96be",
   "metadata": {},
   "source": [
    "### List Methods and Properties\n",
    "\n",
    "Just like strings, there are many [list methods](https://www.w3schools.com/python/python_ref_list.asp), some of which work quite similarly. Some useful ones:\n",
    "\n",
    "* `.count()` works just like the string method, indicating how many items match the requested value.\n",
    "* `.sort()` sorts either alphabetically or from smallest to highest. This function is done in-place; it doesn't return a new list, but actually sorts the original variable the list is stored in.\n",
    "* `.reverse()` reverses the list's order. Like `.sort()`, it does the reversing in-place.\n",
    "* `in` is not a method. It tells you whether a list contains a particular value.\n",
    "* `set()` converts a list into a **set**, which means each of its entries must be unique. This will be useful later, when determining the size of a text's vocabulary."
   ]
  },
  {
   "cell_type": "code",
   "execution_count": 21,
   "id": "3c7766a5-dc59-417a-807e-dc78eba41ba5",
   "metadata": {},
   "outputs": [
    {
     "data": {
      "text/plain": [
       "3"
      ]
     },
     "execution_count": 21,
     "metadata": {},
     "output_type": "execute_result"
    }
   ],
   "source": [
    "letters = [\"a\", \"a\", \"e\", \"a\", \"u\"]\n",
    "\n",
    "letters.count(\"a\")"
   ]
  },
  {
   "cell_type": "code",
   "execution_count": 30,
   "id": "e55cb146-2e44-4683-8ace-be9bb4627bbc",
   "metadata": {},
   "outputs": [
    {
     "data": {
      "text/plain": [
       "['e', 'u', 'a']"
      ]
     },
     "execution_count": 30,
     "metadata": {},
     "output_type": "execute_result"
    }
   ],
   "source": [
    "list(set(letters))"
   ]
  },
  {
   "cell_type": "code",
   "execution_count": 22,
   "id": "a6b8a424-ec55-4d9d-b941-76e390310ce3",
   "metadata": {},
   "outputs": [
    {
     "data": {
      "text/plain": [
       "['apples', 'bread', 'curry', 'durrian', 'yogurt']"
      ]
     },
     "execution_count": 22,
     "metadata": {},
     "output_type": "execute_result"
    }
   ],
   "source": [
    "groceries.sort()\n",
    "\n",
    "groceries"
   ]
  },
  {
   "cell_type": "code",
   "execution_count": 23,
   "id": "de6f4d56-78e9-4941-b888-315a2519e9fe",
   "metadata": {},
   "outputs": [
    {
     "data": {
      "text/plain": [
       "[22, 17, 9, 6, 5, 4, 1]"
      ]
     },
     "execution_count": 23,
     "metadata": {},
     "output_type": "execute_result"
    }
   ],
   "source": [
    "numbers = [1, 5, 17, 22, 9, 4, 6]\n",
    "\n",
    "numbers.sort()\n",
    "numbers.reverse()\n",
    "\n",
    "numbers"
   ]
  },
  {
   "cell_type": "code",
   "execution_count": 24,
   "id": "efe3c80f-0e76-4012-85f5-0c233208c37a",
   "metadata": {},
   "outputs": [
    {
     "data": {
      "text/plain": [
       "True"
      ]
     },
     "execution_count": 24,
     "metadata": {},
     "output_type": "execute_result"
    }
   ],
   "source": [
    "\"apples\" in groceries"
   ]
  },
  {
   "cell_type": "code",
   "execution_count": 25,
   "id": "bff0bfe5-e4a7-4a36-9e47-ac990c4c2838",
   "metadata": {},
   "outputs": [
    {
     "data": {
      "text/plain": [
       "False"
      ]
     },
     "execution_count": 25,
     "metadata": {},
     "output_type": "execute_result"
    }
   ],
   "source": [
    "\"pizza\" in groceries"
   ]
  },
  {
   "cell_type": "markdown",
   "id": "c82547f1-390a-4a39-8574-5ea74e33522c",
   "metadata": {},
   "source": [
    "## Converting between strings and lists\n",
    "\n",
    "Strings have a `.split()` method which converts them to lists after splitting by a specific character if passed an argument, or any whitespace (spaces, tabs, and newlines) if no argument is passed. This is a very simple way to do **string tokenizing**, splitting a text into words."
   ]
  },
  {
   "cell_type": "code",
   "execution_count": 86,
   "id": "8cd16bbc-d064-4d0a-83f7-fc3aa6c50f07",
   "metadata": {},
   "outputs": [
    {
     "data": {
      "text/plain": [
       "'The Fast And The Furious'"
      ]
     },
     "execution_count": 86,
     "metadata": {},
     "output_type": "execute_result"
    }
   ],
   "source": [
    "movie"
   ]
  },
  {
   "cell_type": "code",
   "execution_count": 90,
   "id": "c860f4eb-7b74-4245-a135-2318f548713c",
   "metadata": {},
   "outputs": [
    {
     "data": {
      "text/plain": [
       "['The', 'Fast', 'And', 'The', 'Furious']"
      ]
     },
     "execution_count": 90,
     "metadata": {},
     "output_type": "execute_result"
    }
   ],
   "source": [
    "movie.split()"
   ]
  },
  {
   "cell_type": "code",
   "execution_count": 91,
   "id": "c0b07619-6aff-4f77-a966-c14550e5633e",
   "metadata": {},
   "outputs": [
    {
     "data": {
      "text/plain": [
       "5"
      ]
     },
     "execution_count": 91,
     "metadata": {},
     "output_type": "execute_result"
    }
   ],
   "source": [
    "len( movie.split() )"
   ]
  },
  {
   "cell_type": "markdown",
   "id": "957cf8e0-820f-45ee-ae4f-8ca46867c2d2",
   "metadata": {},
   "source": [
    "There is also a string method called `.join()` which will convert a list back into a string. Whichever string is used will be put between the individual words when the list is joined back together:"
   ]
  },
  {
   "cell_type": "code",
   "execution_count": 100,
   "id": "42c4b8eb-eacd-451b-a4ef-c7ea077a1950",
   "metadata": {},
   "outputs": [
    {
     "data": {
      "text/plain": [
       "'rose dorothy sophia blanche'"
      ]
     },
     "execution_count": 100,
     "metadata": {},
     "output_type": "execute_result"
    }
   ],
   "source": [
    "names = [\"rose\", \"dorothy\", \"sophia\", \"blanche\"]\n",
    "\n",
    "\" \".join(names)"
   ]
  }
 ],
 "metadata": {
  "kernelspec": {
   "display_name": "Python 3 (ipykernel)",
   "language": "python",
   "name": "python3"
  },
  "language_info": {
   "codemirror_mode": {
    "name": "ipython",
    "version": 3
   },
   "file_extension": ".py",
   "mimetype": "text/x-python",
   "name": "python",
   "nbconvert_exporter": "python",
   "pygments_lexer": "ipython3",
   "version": "3.9.12"
  }
 },
 "nbformat": 4,
 "nbformat_minor": 5
}
