{
 "cells": [
  {
   "cell_type": "markdown",
   "id": "eb24dd7d-fd71-4876-b816-7a4f3cbe07cb",
   "metadata": {},
   "source": [
    "# Introduction to Python and JupyterLab"
   ]
  },
  {
   "cell_type": "markdown",
   "id": "7fcf3b8c-5d5d-43a5-ac7d-03231d3d6c91",
   "metadata": {},
   "source": [
    "## Skills\n",
    "\n",
    "1. **Understand datatypes and basic python operations.**\n",
    "3. **Store data in variables.**\n",
    "2. **Use basic functions.**\n",
    "4. Manipulate strings using string methods.\n",
    "6. Use lists and tuples to store multiple pieces of data."
   ]
  },
  {
   "cell_type": "markdown",
   "id": "032a495d-ec1e-4f92-81dc-bf781c084eb1",
   "metadata": {},
   "source": [
    "## Vocabulary List\n",
    "\n",
    "**argument.** An input to a **function.**\n",
    "\n",
    "**int** and **float.** Data types representing numbers. An `int` is an integer, while a `float` represents any decimal number (including integers like 3.0)\n",
    "\n",
    "**function.** A piece of code which takes in some input and changes it into an output. Its inputs are called **arguments** and it **returns** the output. You may have seen functions like $\\sin(\\theta)$ in a trigonometry course, which takes an angle as an argument and returns a value between -1 and 1.\n",
    "\n",
    "**list.** A Python data type which can contain multiple values, not just one.\n",
    "\n",
    "**keyword argument.** An optional argument of a function which must be named in order to be used. They are always written as `keyword=value`. If you call a function `printOut(data, color=\"blue\")`, the function is called `printOut`, a variable named `data` is one argument, and `\"blue\"` is the keyword argument for `color=`.\n",
    "\n",
    "**module.** A collection of functions, data, and possibly many other things that give python more functionality. There are tens of thousands of modules which have been written by the python community which do everything from working with websites to generating art.\n",
    "\n",
    "**object.** A specialized data type which can contain anything and also have their own associated functions called methods. In this course, we'll be working with objects that represent large amounts of data, and others which perform specialized functions for us, like reading and transforming that data.\n",
    "\n",
    "**return value.** The output of a **function.**\n",
    "\n",
    "**string.** A data type representing text. Strings are made of individual characters, enclosed within either single `'` or double `\"` quotation marks.\n",
    "\n",
    "**variable.** A container that stores a piece of information, which can be an int, a float, a string, or many other kinds of objects that we'll learn about. That information can be changed or called upon later by the user. As the programmer, you get to decide what to name your variable, which acts like a label on a box to find it later.\n"
   ]
  },
  {
   "cell_type": "markdown",
   "id": "08df63df-faac-4515-a6b7-874fce6b64af",
   "metadata": {},
   "source": [
    "## The Beginning\n",
    "\n",
    "This is a cell with code in it. If you run it, you should see the output 8\n",
    "\n",
    "To run code, type Shift+Enter, or press the play button at the top of the notebook window.\n"
   ]
  },
  {
   "cell_type": "code",
   "execution_count": null,
   "id": "07ebc15e-1625-4ee5-b4d1-b264cb09b3e8",
   "metadata": {},
   "outputs": [],
   "source": [
    "3 + 5"
   ]
  },
  {
   "cell_type": "markdown",
   "id": "a8302278-4bf6-4fb9-b590-41b3e72c96be",
   "metadata": {},
   "source": [
    "## Numbers and Strings\n",
    "\n",
    "In this course, we'll be working with data which represent both text and numbers. We'll use two types of numbers in Python: integers (`int`s) and decimal numbers (`float`s). Python handles them *almost* the same way. I'll point out the times when the distinction matters.\n",
    "\n",
    "We'll also be working with text *quite a lot*. That is the point of this course, after all. Python calls texts `string`s, because they are strings of individual characters."
   ]
  },
  {
   "cell_type": "code",
   "execution_count": null,
   "id": "10731b36-2ee8-4a75-8c4c-a2620fa9b7db",
   "metadata": {},
   "outputs": [],
   "source": [
    "# This is an int. Note the lack of decimal point in the output.\n",
    "3"
   ]
  },
  {
   "cell_type": "markdown",
   "id": "f1c67c28-f0a0-4a66-a2bc-ba05a263a84c",
   "metadata": {},
   "source": [
    "These are both floats, even though the second is a whole number."
   ]
  },
  {
   "cell_type": "code",
   "execution_count": null,
   "id": "dd5f7037-4f97-4d0f-843a-22fb72c0d3e3",
   "metadata": {},
   "outputs": [],
   "source": [
    "5.2"
   ]
  },
  {
   "cell_type": "code",
   "execution_count": null,
   "id": "5e64935e-4451-4aa9-bbf3-e5d2bdcd2649",
   "metadata": {},
   "outputs": [],
   "source": [
    "3.0"
   ]
  },
  {
   "cell_type": "markdown",
   "id": "01084c5f-a850-4c82-ae80-50eda9e0610a",
   "metadata": {},
   "source": [
    "When writing a string in python, put it inside of quotation marks, either single `'`, or double `\"` quotes. Anything inside of quotation marks is a string."
   ]
  },
  {
   "cell_type": "code",
   "execution_count": null,
   "id": "bed02fbd-ae96-448a-9e37-dd4f8d7d48f0",
   "metadata": {},
   "outputs": [],
   "source": [
    "\"hello\""
   ]
  },
  {
   "cell_type": "code",
   "execution_count": null,
   "id": "9a0f891f-b987-47d6-8cb9-76fe7b60dc52",
   "metadata": {},
   "outputs": [],
   "source": [
    "\"3\""
   ]
  },
  {
   "cell_type": "markdown",
   "id": "32123401-0644-4156-a673-1e8b55363e2c",
   "metadata": {},
   "source": [
    "## Basic Numeric Operations\n",
    "Using the number types (int and float), we can perform typical mathematical operations between numbers: addition (`+`), subtraction (`-`), multiplication (`*`), and division (`/`):"
   ]
  },
  {
   "cell_type": "code",
   "execution_count": null,
   "id": "9880c0a0-eb3b-4bb0-ae83-3f818fbe72bc",
   "metadata": {},
   "outputs": [],
   "source": [
    "3 + 2"
   ]
  },
  {
   "cell_type": "code",
   "execution_count": null,
   "id": "a9baad06-c0df-4e08-b031-ce1e404bee8d",
   "metadata": {},
   "outputs": [],
   "source": [
    "4 * 4"
   ]
  },
  {
   "cell_type": "code",
   "execution_count": null,
   "id": "5f9facfe-71e0-4a77-8b08-fa345088c727",
   "metadata": {},
   "outputs": [],
   "source": [
    "7 / 2"
   ]
  },
  {
   "cell_type": "markdown",
   "id": "7b73018f-c55c-4f85-91a5-44869748169a",
   "metadata": {},
   "source": [
    "Which can be nested inside of parentheses `()`:"
   ]
  },
  {
   "cell_type": "code",
   "execution_count": null,
   "id": "992254a7-db40-4345-81d2-49d3d24f7071",
   "metadata": {},
   "outputs": [],
   "source": [
    "(3 + 5)/4"
   ]
  },
  {
   "cell_type": "markdown",
   "id": "9216a20b-552e-49e2-a81b-22751672bb15",
   "metadata": {},
   "source": [
    "You can also add strings together:"
   ]
  },
  {
   "cell_type": "code",
   "execution_count": null,
   "id": "0b32761d-dcf6-4c5f-a4a6-74e4e2e72def",
   "metadata": {},
   "outputs": [],
   "source": [
    "\"hello\" + \"goodbye\""
   ]
  },
  {
   "cell_type": "markdown",
   "id": "22f8debd-901e-4037-aa0d-88749904f179",
   "metadata": {},
   "source": [
    "Even though this course's goal is to understand texts, performing operations on numbers will be very important. Perhaps we want to know the average length of words in a document, or what the most common words are. Those questions will require us to do simple math or counting to get an answer."
   ]
  },
  {
   "cell_type": "markdown",
   "id": "25c248d5-6ce3-44f5-84dd-b8239a90c02f",
   "metadata": {},
   "source": [
    "## Variables\n",
    "\n",
    "A variable is a way to store data for usage later. You can think of a variable as a box that you have put data into, that has a name so you know where to find it later. To assign data to a variable, you use the equals sign `=` :\n",
    "\n",
    "`variable_name = data`\n",
    "\n",
    "The variable's name goes on the left. A variable can be named almost anything, can only consist of letters, numbers, and the underscore `_` character, and the first character can't be a number.\n",
    "\n",
    "After the equal sign can go any expression, including just a simple number or string (e.g. \"hello\" or 15), or it can be a function output (which will get into in a moment), or even another variable.\n",
    "\n",
    "When you assign a variable, there's no Python output, so if you see any output, then *you have not stored anything in a variable*. Let's see a few examples:"
   ]
  },
  {
   "cell_type": "code",
   "execution_count": null,
   "id": "03c39137-f69a-4053-be16-fafa47e7b7c0",
   "metadata": {},
   "outputs": [],
   "source": [
    "name = \"Daniel Kaluuya\""
   ]
  },
  {
   "cell_type": "code",
   "execution_count": null,
   "id": "6033924e-ed35-4852-9523-a411062320a8",
   "metadata": {},
   "outputs": [],
   "source": [
    "name"
   ]
  },
  {
   "cell_type": "code",
   "execution_count": null,
   "id": "ad42aa8a-96ea-4399-94dc-c9d5f57efd5a",
   "metadata": {},
   "outputs": [],
   "source": [
    "this = 3\n",
    "that = 5"
   ]
  },
  {
   "cell_type": "code",
   "execution_count": null,
   "id": "f65e974d-badd-4afe-a382-3b4d1dc20fed",
   "metadata": {},
   "outputs": [],
   "source": [
    "this + that"
   ]
  },
  {
   "cell_type": "code",
   "execution_count": null,
   "id": "08244fe5-b7be-4bbc-b2c6-b8658a2d28e9",
   "metadata": {},
   "outputs": [],
   "source": [
    "that = this\n",
    "this + that"
   ]
  },
  {
   "cell_type": "markdown",
   "id": "883a93e7-68a1-4bda-9466-f4af69b326ab",
   "metadata": {},
   "source": [
    "Storing individual numbers and strings in a variable may not seem particularly useful, and you're right. It will become much more powerful when we start looking at much larger, more complex data, like spreadsheets or entire books in them."
   ]
  },
  {
   "cell_type": "markdown",
   "id": "1f0d4b12-fc4c-4273-af41-6b48e2fe7483",
   "metadata": {},
   "source": [
    "## Functions\n",
    "\n",
    "Below is a **function**, called `max()`, which tells us the largest of two or more pieces of data:"
   ]
  },
  {
   "cell_type": "code",
   "execution_count": null,
   "id": "b9d7e63d-fe94-45c1-8155-cb00dd21a2e2",
   "metadata": {},
   "outputs": [],
   "source": [
    "A = 5\n",
    "B = 12\n",
    "C = 8\n",
    "\n",
    "max(A, B, C)"
   ]
  },
  {
   "cell_type": "markdown",
   "id": "486de81e-118d-456b-9447-74989993e172",
   "metadata": {},
   "source": [
    "Functions are pieces of code that take in some data, do some work, and then give a result back to the user. What they do can range from very simple, like the `max()` function, to very complex. In the next section of the course, we'll learn functions that transform and plot large quantities of data.\n",
    "\n",
    "The inputs to a function are called its **arguments** (like the 3, 12, and 15 above), and the output of the function is called its **return value** (above, the return value was 12). The arguments are put in parentheses after the name of the function, and are separated by commas. Even if there are no arguments for a function, the parentheses are still necessary.\n",
    "\n",
    "Another simple function is the `len()` function, which tells you the length of a *string* or **list**, a type we'll get to in a bit. Its input are the string you want the length of, and its return value is an *int*, that string's length:"
   ]
  },
  {
   "cell_type": "code",
   "execution_count": null,
   "id": "e7002357-2bb8-457b-8b38-7fbcb62aa72b",
   "metadata": {},
   "outputs": [],
   "source": [
    "course = \"HARP 210 - Digital Text Analysis\"\n",
    "\n",
    "len(course)"
   ]
  },
  {
   "cell_type": "markdown",
   "id": "30f4ff0c-c239-46f1-88aa-acf90dd55562",
   "metadata": {},
   "source": [
    "#### The `print()` function\n",
    "\n",
    "You may have noticed that if you have two or more lines of code in a cell, only the last one gets output. The `print()` function gives us a way to do that. If you have multiple `print()` functions, you will see all of them, one per line:"
   ]
  },
  {
   "cell_type": "code",
   "execution_count": null,
   "id": "d5ee52b7-ef81-48d8-b3b3-c14b17903bc6",
   "metadata": {},
   "outputs": [],
   "source": [
    "print( 200 + 10 )\n",
    "print( course )\n",
    "print( len(course) )"
   ]
  },
  {
   "cell_type": "markdown",
   "id": "96920ef8-37f9-4b29-b071-30a165a8fc3b",
   "metadata": {},
   "source": [
    "#### More with Strings\n",
    "Here are just a few miscellaneous properties that *strings* have:\n",
    "* You can add a newline to a string with the text `\\n`. This counts as a single character, and is called an *escape sequence*.\n",
    "* `\\'` and `\\\"` can be used to add quotation marks, as necessary.\n",
    "* If you want to add a backslash to a string, use two `\\\\`.\n",
    "* Python will happily work with non-English Unicode characters.\n",
    "* If you want to add a multiline text in your code, enclose it in triple quotes `\"\"\"`"
   ]
  },
  {
   "cell_type": "code",
   "execution_count": null,
   "id": "5f8ef5c1-9492-4731-8d53-7161ba6932ac",
   "metadata": {},
   "outputs": [],
   "source": [
    "print(\"line one with a forward slash (/)\\nline two with a backslash (\\\\)\")"
   ]
  },
  {
   "cell_type": "code",
   "execution_count": null,
   "id": "bc1a5aea-1846-4968-9ff2-55f44a6e3c35",
   "metadata": {},
   "outputs": [],
   "source": [
    "text = \"私は日本に行きます\"\n",
    "print(text)"
   ]
  },
  {
   "cell_type": "code",
   "execution_count": null,
   "id": "34b1c943-9462-413d-ac62-d63a132ebe60",
   "metadata": {},
   "outputs": [],
   "source": [
    "text = \"\"\"The beginning of the text.\n",
    "The end of the text.\"\"\"\n",
    "\n",
    "print(text)"
   ]
  }
 ],
 "metadata": {
  "kernelspec": {
   "display_name": "Python 3 (ipykernel)",
   "language": "python",
   "name": "python3"
  },
  "language_info": {
   "codemirror_mode": {
    "name": "ipython",
    "version": 3
   },
   "file_extension": ".py",
   "mimetype": "text/x-python",
   "name": "python",
   "nbconvert_exporter": "python",
   "pygments_lexer": "ipython3",
   "version": "3.9.12"
  }
 },
 "nbformat": 4,
 "nbformat_minor": 5
}
