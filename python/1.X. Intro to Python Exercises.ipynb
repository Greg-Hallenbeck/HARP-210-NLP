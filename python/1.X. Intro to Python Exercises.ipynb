{
 "cells": [
  {
   "cell_type": "markdown",
   "id": "724e231e-365b-415f-bc84-ac77a55808ae",
   "metadata": {},
   "source": [
    "# Exercises for Intro to Python"
   ]
  },
  {
   "cell_type": "markdown",
   "id": "44f9d06c-b66b-4ced-a873-c00645019760",
   "metadata": {},
   "source": [
    "___ \n",
    "## Day 1: Data Types, Operations, and Functions"
   ]
  },
  {
   "cell_type": "markdown",
   "id": "ee213b00-158d-40bd-ab41-593b2866b2e6",
   "metadata": {},
   "source": [
    "### Basics of Python"
   ]
  },
  {
   "cell_type": "markdown",
   "id": "859086b7-86f2-4eda-88d2-6d939bf35ad5",
   "metadata": {},
   "source": [
    "Use Python to find the value of each of the following math expressions:"
   ]
  },
  {
   "cell_type": "markdown",
   "id": "8544c9a8-cc76-46a9-9de6-7b6925b93df4",
   "metadata": {},
   "source": [
    "* $1 + 2 + 3 + 4$\n",
    "* $1 + 2 + \\frac{1}{2}$\n",
    "* $4 \\cdot (2 + 3)$\n",
    "* $(8 - 2)(5 + 3\\times 4)$\n",
    "* $\\frac{2+6\\cdot 3}{4}$"
   ]
  },
  {
   "cell_type": "code",
   "execution_count": null,
   "id": "96c94bae-2bb3-4b84-bf25-9d1e60fd94da",
   "metadata": {},
   "outputs": [],
   "source": []
  },
  {
   "cell_type": "markdown",
   "id": "747ff3a0-c416-49b9-b82e-8d9c0cddab8b",
   "metadata": {},
   "source": [
    "What are the types of the following objects?\n",
    "* 63\n",
    "* 7+2\n",
    "* \"HARP-210\"\n",
    "* 3.14159\n",
    "* \"17-5\"\n",
    "* 3/2"
   ]
  },
  {
   "cell_type": "code",
   "execution_count": null,
   "id": "b0ed4cdd-e9f7-4709-8fbd-597e801dc2ae",
   "metadata": {},
   "outputs": [],
   "source": []
  },
  {
   "cell_type": "markdown",
   "id": "7c0e646c-f078-414e-b370-47dbb8809470",
   "metadata": {},
   "source": [
    "What is the best Python type to represent the following?\n",
    "* Names\n",
    "* Addresses\n",
    "* Scores on exams\n",
    "* Phone numbers\n",
    "* Prices at a store\n",
    "* Zip codes"
   ]
  },
  {
   "cell_type": "code",
   "execution_count": null,
   "id": "52887729-745b-40e1-ba7d-f485a64d0033",
   "metadata": {},
   "outputs": [],
   "source": []
  },
  {
   "cell_type": "markdown",
   "id": "1540f6c4-0d79-4394-8a57-085c05c5d256",
   "metadata": {},
   "source": [
    "Try running each of the following. Some will give you errors. Make sure you understand why each does or does not give an error.\n",
    "* \"one\" + \"two\"\n",
    "* 3 + 5.5\n",
    "* 3 + \"5\"\n",
    "* \"apple\" - \"orange\"\n",
    "* 3 + 5.0"
   ]
  },
  {
   "cell_type": "code",
   "execution_count": null,
   "id": "d459353b-9661-4eb9-b093-6ac4c6316f72",
   "metadata": {},
   "outputs": [],
   "source": []
  },
  {
   "cell_type": "markdown",
   "id": "6543c530-0dc3-4052-8869-349599574fd5",
   "metadata": {},
   "source": [
    "___\n",
    "\n",
    "### Variables"
   ]
  },
  {
   "cell_type": "markdown",
   "id": "2ed5b84a-1c76-4b68-b256-d613da88a03d",
   "metadata": {},
   "source": [
    "Create a variable (with any legal name), and assign it a float value."
   ]
  },
  {
   "cell_type": "code",
   "execution_count": null,
   "id": "c4cc2313-6a99-4348-8a91-193e1fa9b779",
   "metadata": {},
   "outputs": [],
   "source": []
  },
  {
   "cell_type": "markdown",
   "id": "796dc340-216d-411b-8cbb-adaa630af599",
   "metadata": {},
   "source": [
    "Create a variable called `name` and assign it the value of your name."
   ]
  },
  {
   "cell_type": "code",
   "execution_count": null,
   "id": "8772c4a2-f439-4f48-b8c4-bb423fc13927",
   "metadata": {},
   "outputs": [],
   "source": []
  },
  {
   "cell_type": "markdown",
   "id": "be025aad-db8c-42d4-9181-3f6a739788f8",
   "metadata": {},
   "source": [
    "Try creating a variable that has an illegal name. See what error Python gives you.\n",
    "(Also, look closely at the coloration of your variable's name. What do you notice?)"
   ]
  },
  {
   "cell_type": "code",
   "execution_count": null,
   "id": "c864b7dd-47b3-4146-8811-e29a65a11ec4",
   "metadata": {},
   "outputs": [],
   "source": []
  },
  {
   "cell_type": "markdown",
   "id": "7de762e4-d211-4aa6-a35c-ce933f06ee22",
   "metadata": {},
   "source": [
    "Create a variable called A and set it equal to 2, set B equal to 3, and C equal to 7."
   ]
  },
  {
   "cell_type": "code",
   "execution_count": null,
   "id": "d3e50bb6-1b57-468f-a726-6f2cfb970365",
   "metadata": {},
   "outputs": [],
   "source": []
  },
  {
   "cell_type": "markdown",
   "id": "e8f5c0e8-96cb-424f-8ed4-6cb3de44daf2",
   "metadata": {},
   "source": [
    "Predict what the following will output when you run them, then check your answers:\n",
    "* A\n",
    "* A + C\n",
    "* C - B"
   ]
  },
  {
   "cell_type": "code",
   "execution_count": null,
   "id": "1eb84b1b-0158-4e8d-85c8-c120370d64a7",
   "metadata": {},
   "outputs": [],
   "source": []
  },
  {
   "cell_type": "markdown",
   "id": "48361b62-7d7b-48fb-bb43-6885864c76b5",
   "metadata": {},
   "source": [
    "Now, set B = B + C. What is B equal to now?"
   ]
  },
  {
   "cell_type": "code",
   "execution_count": null,
   "id": "b0b002b5-79bb-45bc-89e6-cc71824040af",
   "metadata": {},
   "outputs": [],
   "source": []
  },
  {
   "cell_type": "markdown",
   "id": "80e1fc05-3f11-4ffe-bb25-d57e7f0af335",
   "metadata": {},
   "source": [
    "Run the cell above again. Why does B change again?"
   ]
  },
  {
   "cell_type": "code",
   "execution_count": null,
   "id": "f8cd25ba-a6f9-4006-80f2-9ac96929443b",
   "metadata": {},
   "outputs": [],
   "source": []
  },
  {
   "cell_type": "markdown",
   "id": "69d5f524-60e8-4fa6-9083-f694b59843ac",
   "metadata": {},
   "source": [
    "___\n",
    "### Comparators\n",
    "\n",
    "Predict, and then check your answer for each of the following:\n",
    "\n",
    "* 200 > 10\n",
    "* 1 + 7 < 2 + 5\n",
    "* 1 < 7 + 2 + 5\n",
    "* 1 + 1 == 2\n",
    "* \"Q\" < \"P\"\n",
    "* \"hello\" > \"goodbye\"\n",
    "* \"cats\" > \"cat\"\n",
    "* (1 + 1 > 3) == (\"A\" > \"B\")"
   ]
  },
  {
   "cell_type": "code",
   "execution_count": null,
   "id": "89449907-70ba-4e67-b62e-30d185cb5e56",
   "metadata": {},
   "outputs": [],
   "source": []
  },
  {
   "cell_type": "markdown",
   "id": "0cbac4e4-287d-468e-a3bd-917ae2ca6b6a",
   "metadata": {},
   "source": [
    "Python gives an error for the following line of code. What is the error, and what does it mean?"
   ]
  },
  {
   "cell_type": "code",
   "execution_count": null,
   "id": "3ff74cdb-eeaa-44d9-b2f4-731edd5bc53c",
   "metadata": {},
   "outputs": [],
   "source": [
    "3 < \"cats\""
   ]
  },
  {
   "cell_type": "markdown",
   "id": "69b170ce-3b31-48e3-a2e6-4e74bb1d513b",
   "metadata": {},
   "source": [
    "In lecture we discussed how comparators use alphabetical ordering, but that's not quite true. Consider the following, which work. Try to find out how Python *really* orders strings."
   ]
  },
  {
   "cell_type": "code",
   "execution_count": null,
   "id": "973033f1-dec9-4b52-abf3-02a8201e3020",
   "metadata": {},
   "outputs": [],
   "source": [
    "\"鋼の錬金術師\" > \"ドラゴンボール Z\""
   ]
  },
  {
   "cell_type": "code",
   "execution_count": null,
   "id": "84fcc270-8775-492f-acc8-c1cf5db1f369",
   "metadata": {},
   "outputs": [],
   "source": [
    "\"α\" > \"β\""
   ]
  },
  {
   "cell_type": "markdown",
   "id": "4ec58216-bd9a-4f0f-bd00-8e6fe5d8786d",
   "metadata": {},
   "source": [
    "Think about the languages that you know. For which will some sort of ordering be useful?"
   ]
  },
  {
   "cell_type": "code",
   "execution_count": null,
   "id": "e7373618-f86b-4b19-9546-c4630f1eb769",
   "metadata": {},
   "outputs": [],
   "source": []
  },
  {
   "cell_type": "markdown",
   "id": "d8956784-5ff6-4ba3-aac7-c5e78b4df982",
   "metadata": {},
   "source": [
    "___\n",
    "### Functions\n",
    "\n",
    "Below is a use of a built-in Python function to take the absolute value of a number (which means to make it positive).\n",
    "\n",
    "* What's the *name* of the function?\n",
    "* In the example below, what are the *argument(s)*?\n",
    "* In the example below, what is *returned* from the function?\n",
    "\n",
    "More generally:\n",
    "* What type(s) are allowed as arguments to the function?\n",
    "* What type is the return value?"
   ]
  },
  {
   "cell_type": "code",
   "execution_count": null,
   "id": "18762e45-2cd1-447b-802f-847455672c02",
   "metadata": {},
   "outputs": [],
   "source": [
    "abs(-5)"
   ]
  },
  {
   "cell_type": "markdown",
   "id": "47299142-eadf-4a1e-ae3f-a0f6a18b873f",
   "metadata": {},
   "source": [
    "Here is another function, which you'll probably never see ever again for the rest of your life.\n",
    "\n",
    "Once again, identify the name of the function, its argument, and its return value."
   ]
  },
  {
   "cell_type": "code",
   "execution_count": null,
   "id": "be315362-5167-4dd9-8118-19c9120fe3c7",
   "metadata": {},
   "outputs": [],
   "source": [
    "A = \"3\"\n",
    "\n",
    "h = hash(A)\n",
    "\n",
    "print(h)"
   ]
  },
  {
   "cell_type": "markdown",
   "id": "feafaca6-96a5-42d5-b742-d605045b4914",
   "metadata": {},
   "source": [
    "Predict what the result of each of the following will be, then check your answers:"
   ]
  },
  {
   "cell_type": "code",
   "execution_count": null,
   "id": "fc214915-2531-4b78-a5f7-aed88c26507f",
   "metadata": {},
   "outputs": [],
   "source": [
    "len(\"red\") + len(\"blue\")"
   ]
  },
  {
   "cell_type": "code",
   "execution_count": null,
   "id": "0aa36eef-a08d-4846-8bbb-2891c9c843be",
   "metadata": {},
   "outputs": [],
   "source": [
    "max(len(\"red\"), len(\"blue\"), len(\"orange\"))"
   ]
  },
  {
   "cell_type": "code",
   "execution_count": null,
   "id": "015f8c68-2099-4dca-bd1d-4b1a2d8e91e0",
   "metadata": {},
   "outputs": [],
   "source": [
    "r = len(\"red\")\n",
    "b = len(\"blue\")\n",
    "o = len(\"orange\")\n",
    "\n",
    "max(r, b, o, r + b)"
   ]
  },
  {
   "cell_type": "markdown",
   "id": "7632d816-cc75-46e9-b363-325f7009063a",
   "metadata": {},
   "source": [
    "**Tricky Question.** What does the `print()` function return? The thing that is printed out is *not* returned! It is printed out."
   ]
  },
  {
   "cell_type": "code",
   "execution_count": null,
   "id": "72d60a79-9ba9-42ca-b446-68907fec6c25",
   "metadata": {},
   "outputs": [],
   "source": []
  },
  {
   "cell_type": "markdown",
   "id": "a2b8a980-ab69-45bd-9566-b0597694fea0",
   "metadata": {},
   "source": [
    "___\n",
    "### Aside: Markdown\n",
    "\n",
    "Markdown is a way to add text annotation (as well as links, images, and plenty of other things) inside of your notebooks. This makes them much easier to read, and can be used as notes, exercises, and so on. You know, like this.\n",
    "\n",
    "##### Basics\n",
    "\n",
    "Each cell in your notebook is either Code or Markdown. You can change which is which with the dropdown at the top of the screen. Any text you type turns into nice-looking plaintext, separated into paragraphs by leaving a blank line between them.\n",
    "\n",
    "Double-click on any markdown cell to see the markdown associated with it, and run the cell (Shift+Enter) to convert it back to rich text.\n",
    "\n",
    "##### Simple Markdown\n",
    "\n",
    "* Add headings with one to five octothorpes `#` followed by a space.\n",
    "* **Bold** text is surrounded by two asterisks `**`, and *italics* by one.\n",
    "* Bulleted lists start with an asterisk `*` followed by a space.\n",
    "* Numbered lists work similarly, but with numbering `1.` and so on at the beginning of each line.\n",
    "* You can use an [emoji keyboard](https://emojikeyboard.org/) to copy emoji in. 😍 I promise I will use these sparingly in future notebooks.\n",
    "* Add [website links](https://www.npr.org/) with `[]()`.\n",
    "\n",
    "##### $\\LaTeX$\n",
    "\n",
    "If you know Latex, then you can put math inside of pairs of dollar signs `$` in your markdown, or `$$` to center it on its own line. If you don't, then don't worry about it.\n",
    "\n",
    "$$ \\sum_{i=n}^\\infty\\frac{1}{a^n} = \\frac{1}{1-a} \\quad\\quad\\text{for } |a|<1$$"
   ]
  },
  {
   "cell_type": "markdown",
   "id": "2e84480f-6c5d-4e46-9743-e55a33755322",
   "metadata": {},
   "source": [
    "##### Exercise.\n",
    "Edit the markdown cell below and write a short paragraph and use the following:\n",
    "* Start it with a level 4 header (four octothorpes)\n",
    "* Use bold, italics, and a link somewhere.\n",
    "* Search for some emoji and paste them in. 👍"
   ]
  },
  {
   "cell_type": "markdown",
   "id": "9dc86db9-3c7a-445b-bee6-944115a96363",
   "metadata": {},
   "source": [
    "___\n",
    "\n",
    "## Day 2: Strings and Lists"
   ]
  },
  {
   "cell_type": "markdown",
   "id": "7a44db3f-e601-4d88-92dd-5b1b7aec9974",
   "metadata": {},
   "source": [
    "### String Slicing"
   ]
  },
  {
   "cell_type": "code",
   "execution_count": null,
   "id": "6472c613-f722-4040-88e4-477bdf0d603a",
   "metadata": {},
   "outputs": [],
   "source": [
    "text = \"parable of the sower\""
   ]
  },
  {
   "cell_type": "markdown",
   "id": "5cfe45b4-9859-4412-a33d-741e7b1662b5",
   "metadata": {},
   "source": [
    "What will the following cells produce? Try to predict, and then check your answer."
   ]
  },
  {
   "cell_type": "code",
   "execution_count": null,
   "id": "1bd3ebc3-902f-41d6-bc50-e0f89be3fbf5",
   "metadata": {},
   "outputs": [],
   "source": [
    "text[2:5]"
   ]
  },
  {
   "cell_type": "code",
   "execution_count": null,
   "id": "84394477-666f-4ce8-b251-7a46e3a2bf4a",
   "metadata": {},
   "outputs": [],
   "source": [
    "text[8]"
   ]
  },
  {
   "cell_type": "code",
   "execution_count": null,
   "id": "30baed4c-db08-4e6a-84f6-23fa1dd44c5a",
   "metadata": {},
   "outputs": [],
   "source": [
    "text[9:]"
   ]
  },
  {
   "cell_type": "markdown",
   "id": "2f76c8b7-f8a9-44fa-95db-c024cd88b7c4",
   "metadata": {},
   "source": [
    "If I wanted to print the string \"of\" by slicing the `text` variable, what should I write?"
   ]
  },
  {
   "cell_type": "code",
   "execution_count": null,
   "id": "670224b5-11da-4efe-bef3-6dcd5054ad38",
   "metadata": {},
   "outputs": [],
   "source": []
  },
  {
   "cell_type": "markdown",
   "id": "caa37673-bee5-416d-9e46-3b2c819273fc",
   "metadata": {},
   "source": [
    "___\n",
    "### String Methods"
   ]
  },
  {
   "cell_type": "markdown",
   "id": "928cd758-f054-4c50-94c4-cafb62e15aed",
   "metadata": {},
   "source": [
    "I want to change the book title in the `text` variable to the title of the sequel, \"parable of the talents\". Do this using string methods. Then, `print(text)` to show that you've changed it. "
   ]
  },
  {
   "cell_type": "code",
   "execution_count": null,
   "id": "5b26b366-f239-45e8-b7c3-67447ad48d59",
   "metadata": {},
   "outputs": [],
   "source": [
    "text = \"parable of the sower\""
   ]
  },
  {
   "cell_type": "markdown",
   "id": "e2e1c3cf-489d-40ca-ad1d-0d2cd0323271",
   "metadata": {},
   "source": [
    "Now, let's fix the book into its proper format with capitalization, i.e. \"Parable Of The Talents\". Check the [Python string API](https://docs.python.org/3/library/stdtypes.html#string-methods) and find out how to do it."
   ]
  },
  {
   "cell_type": "code",
   "execution_count": null,
   "id": "8da2e08c-525a-4853-8da4-b89d9a6c3a98",
   "metadata": {},
   "outputs": [],
   "source": []
  },
  {
   "cell_type": "markdown",
   "id": "00d5fe37-5622-4a0f-bf4f-3a93c2cc4ffd",
   "metadata": {},
   "source": [
    "Predict what the output of the cells below will be, then run them to ceck.\n",
    "\n",
    "One or more may produce an error. Why?"
   ]
  },
  {
   "cell_type": "code",
   "execution_count": null,
   "id": "31e3e504-b511-4f69-9351-dcfa20e530c6",
   "metadata": {},
   "outputs": [],
   "source": [
    "title = \"everything everywhere all at once\""
   ]
  },
  {
   "cell_type": "code",
   "execution_count": null,
   "id": "ce7a2e93-9030-43c8-af7c-fc7d2e9a8f3e",
   "metadata": {},
   "outputs": [],
   "source": [
    "title.replace(\"every\", \"no\").upper()"
   ]
  },
  {
   "cell_type": "code",
   "execution_count": null,
   "id": "e427146a-9101-4ba6-9fb0-d139f7566248",
   "metadata": {},
   "outputs": [],
   "source": [
    "title.find(\"EVERY\").upper()"
   ]
  },
  {
   "cell_type": "code",
   "execution_count": null,
   "id": "eb6d6483-609d-43dd-8042-d1c365fd201a",
   "metadata": {},
   "outputs": [],
   "source": [
    "title.replace(\"all\", \"eel\").count(\"e\")"
   ]
  },
  {
   "cell_type": "markdown",
   "id": "509af96a-6b64-456b-aa15-a9d64605e3f6",
   "metadata": {},
   "source": [
    "For the cells above which don't produce errors, modify them so that they are multiple lines of code, rather than one long one."
   ]
  },
  {
   "cell_type": "code",
   "execution_count": null,
   "id": "5cc03b39-bdba-4cdb-a148-b3d452fd8269",
   "metadata": {},
   "outputs": [],
   "source": []
  },
  {
   "cell_type": "markdown",
   "id": "1df44a29-30ff-41b9-909c-ed4073c9e65f",
   "metadata": {},
   "source": [
    "**Fun Problem.** Using `.find()` and slicing, get the *second* word in the string `sentence`, and save it to a variable called `second`. Then, `print(second)`. Make sure your code works even if you change the contents of `sentence`!"
   ]
  },
  {
   "cell_type": "code",
   "execution_count": null,
   "id": "661353e8-beb2-44bf-85fb-f4545057ca6a",
   "metadata": {},
   "outputs": [],
   "source": [
    "sentence = \"the five boxing wizards jump quickly\""
   ]
  },
  {
   "cell_type": "code",
   "execution_count": null,
   "id": "f83d0f09-1e32-421c-a674-d2e797d2f6d6",
   "metadata": {},
   "outputs": [],
   "source": []
  },
  {
   "cell_type": "markdown",
   "id": "cf7e54f2-a04a-41f2-bb1d-d3462468202a",
   "metadata": {},
   "source": [
    "### List Methods"
   ]
  },
  {
   "cell_type": "markdown",
   "id": "19d7cad3-f5be-4eb0-9014-8df7ddec546e",
   "metadata": {},
   "source": [
    "Somehow my cats managed to sneak into the safe where I keep the grocery list and add a bunch of unnecessary things. Write some code to only keep the items up to and including rice, then `print(groceries)` to make sure you've removed all the cat stuff."
   ]
  },
  {
   "cell_type": "code",
   "execution_count": null,
   "id": "d5d8b96c-6dac-40bd-9a1e-d80b815dbc2e",
   "metadata": {},
   "outputs": [],
   "source": [
    "groceries = [\"eggs\", \"milk\", \"english muffins\", \"tomatoes\", \"rice\", \"cat toys\", \"tuna\", \"crunchy snacks\"]"
   ]
  },
  {
   "cell_type": "code",
   "execution_count": null,
   "id": "64dca770-0a7f-46e4-bc47-79e2d1e2bd3e",
   "metadata": {},
   "outputs": [],
   "source": [
    "groceries = groceries[0:5]\n",
    "print(groceries)"
   ]
  },
  {
   "cell_type": "markdown",
   "id": "5be8182d-d1f7-4c70-a95e-779219856bf0",
   "metadata": {},
   "source": [
    "Using `in`, show that \"milk\" is still on my list, but \"tuna\" is gone."
   ]
  },
  {
   "cell_type": "code",
   "execution_count": null,
   "id": "8df35a5e-9cea-4309-a14f-15dc3786979c",
   "metadata": {},
   "outputs": [],
   "source": []
  },
  {
   "cell_type": "markdown",
   "id": "deb125c8-f44a-4411-8489-6c9fae1b16a7",
   "metadata": {},
   "source": [
    "Print out how many times the letter \"a\" appears in the list of `letters` below."
   ]
  },
  {
   "cell_type": "code",
   "execution_count": null,
   "id": "3363fbdc-04ca-4f12-94bd-4ea46c8da9c6",
   "metadata": {},
   "outputs": [],
   "source": [
    "letters = [\"a\", \"e\", \"i\", \"o\", \"u\", \"a\", \"a\", \"y\", \"e\", \"a\", \"u\", \"o\", \"e\"]"
   ]
  },
  {
   "cell_type": "code",
   "execution_count": null,
   "id": "097c360d-d0eb-4bb5-874a-460608a80e1f",
   "metadata": {},
   "outputs": [],
   "source": []
  },
  {
   "cell_type": "markdown",
   "id": "36f14adb-1f0e-4c36-b0da-14ad8937576a",
   "metadata": {},
   "source": [
    "Using slicing (and probably `len()`), print the last three letters in the list:"
   ]
  },
  {
   "cell_type": "code",
   "execution_count": null,
   "id": "cb276ff8-bb25-4377-b217-22b1eea3318c",
   "metadata": {},
   "outputs": [],
   "source": []
  },
  {
   "cell_type": "markdown",
   "id": "a9994a19-3bbe-4392-9f8b-1485ca7b3a0a",
   "metadata": {},
   "source": [
    "I want to know how many times the word \"the\" appears in the list of titles below, but my code gives the wrong answer. What is the misunderstanding?"
   ]
  },
  {
   "cell_type": "code",
   "execution_count": null,
   "id": "aab17c9c-62dd-4fb6-a16f-6854a9b6f867",
   "metadata": {},
   "outputs": [],
   "source": [
    "title_list = [\"parable of the sower\", \"parable of the talents\",\n",
    "              \"wild seed\", \"mind of my mind\", \"clay's ark\", \"patternmaster\",\n",
    "             \"kindred\", \"dawn\", \"adulthood rites\", \"imago\", \"fledgling\"]"
   ]
  },
  {
   "cell_type": "code",
   "execution_count": null,
   "id": "1960c70e-dac0-4b36-922e-33b1f878b9d6",
   "metadata": {},
   "outputs": [],
   "source": [
    "title_list.count(\"the\")"
   ]
  },
  {
   "cell_type": "markdown",
   "id": "4222848b-0276-4603-b666-dab427dd120f",
   "metadata": {},
   "source": [
    "**Fun Problem.** I want to find the largest value in the list below. Do so only using list slicing and methods."
   ]
  },
  {
   "cell_type": "code",
   "execution_count": null,
   "id": "629740a2-4e23-4336-ae5e-3136bcce864d",
   "metadata": {},
   "outputs": [],
   "source": [
    "num = [4, 1, 7, 3, 88, 16, 12, -99, 40]"
   ]
  },
  {
   "cell_type": "code",
   "execution_count": null,
   "id": "61ea59b3-80c2-495a-b54e-de7b2aeef3a5",
   "metadata": {},
   "outputs": [],
   "source": []
  },
  {
   "cell_type": "markdown",
   "id": "fb5c7834-da27-4ec7-88b9-65f8cda8bdba",
   "metadata": {},
   "source": [
    "**Fun Problem.** Going back to the `letters` variable, remove all of the letters but \"a\" from the list."
   ]
  },
  {
   "cell_type": "code",
   "execution_count": null,
   "id": "d4c18484-40e4-4b35-bf84-576c17d6e996",
   "metadata": {},
   "outputs": [],
   "source": []
  }
 ],
 "metadata": {
  "kernelspec": {
   "display_name": "Python 3 (ipykernel)",
   "language": "python",
   "name": "python3"
  },
  "language_info": {
   "codemirror_mode": {
    "name": "ipython",
    "version": 3
   },
   "file_extension": ".py",
   "mimetype": "text/x-python",
   "name": "python",
   "nbconvert_exporter": "python",
   "pygments_lexer": "ipython3",
   "version": "3.9.12"
  }
 },
 "nbformat": 4,
 "nbformat_minor": 5
}
