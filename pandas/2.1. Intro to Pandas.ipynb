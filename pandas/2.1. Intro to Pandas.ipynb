{
 "cells": [
  {
   "cell_type": "markdown",
   "id": "699a7e8a-00ad-4fbf-a285-da4ed8d1ac6b",
   "metadata": {},
   "source": [
    "# Introduction to the Pandas module"
   ]
  },
  {
   "cell_type": "markdown",
   "id": "b5f560d6-2d82-4220-a9bb-c1d8aaf2d26a",
   "metadata": {
    "tags": []
   },
   "source": [
    "## Skills\n",
    "\n",
    "1. **Load data into Python using the pandas module.**\n",
    "2. **Select columns using `[]` and rows using `DataFrame.loc[]`.**\n",
    "3. **Summarize columns with basic descriptive statistics.**\n",
    "4. Summarize by category using `DataFrame.groupby()`\n",
    "5. Create new columns.\n",
    "6. Use built-in Pandas string manipulation functions.\n",
    "7. Visualize data using Seaborn and Matplotlib"
   ]
  },
  {
   "cell_type": "markdown",
   "id": "9a7b575c-f245-4067-b9b1-17c8f61bb8b0",
   "metadata": {},
   "source": [
    "## Vocabulary List\n",
    "\n",
    "**DataFrame.** A pandas object representing structured data.\n",
    "\n",
    "**module.** A module extends what you can do in Python, usually by adding additional functions that can be called, but can contain data, and other things as well (your instructor isn't sure on that last part, but is being safe by including it).\n",
    "\n",
    "**Series.** A pandas object representing a single column of a DataFrame. Some functions (like `.count_values()`) return Series instead of DataFrames.\n",
    "\n",
    "**structured data.** Data which is organized into rows and columns, like a spreadsheet. Every column of structured data must have a single data type."
   ]
  },
  {
   "cell_type": "markdown",
   "id": "4c3518e2-bc85-4508-bd53-bbd092dcb72a",
   "metadata": {},
   "source": [
    "## Import Modules\n",
    "The code below imports the *pandas* module, allowing us to make use of more powerful data-manipulating functions and types of objects. We are binding it to a nickname of *pd*, which means that our function calls will be written as `pd.function_name()`."
   ]
  },
  {
   "cell_type": "code",
   "execution_count": null,
   "id": "f62fc174-99a3-4d83-af48-abd6d87b23a4",
   "metadata": {},
   "outputs": [],
   "source": [
    "import pandas as pd"
   ]
  },
  {
   "cell_type": "markdown",
   "id": "fff7b553-06e4-4153-9c85-d81733c458b4",
   "metadata": {},
   "source": [
    "## Pandas DataFrame Basics\n",
    "\n",
    "The pandas module contains many functions for loading and manipulating **structured** data. \n",
    "\n",
    "To get started, we'll use the pandas function `read_csv()` to load in some data. Because `read_csv()` is part of the pandas library (which we imported with the nickname *pd*), we call the function with `pd.read_csv()`\n",
    "\n",
    "The following code loads in the Netflix description dataset and stores it in a variable called `netflix`. For this to work, the \"netflix.csv\" file *must be in the same folder as your notebook file.* Otherwise, you will get a very descriptively named *FileNotFoundError*."
   ]
  },
  {
   "cell_type": "code",
   "execution_count": null,
   "id": "96f1701f-838f-46e4-be07-4e0abf7e1414",
   "metadata": {},
   "outputs": [],
   "source": [
    "netflix = pd.read_csv(\"netflix.csv\")"
   ]
  },
  {
   "cell_type": "markdown",
   "id": "ed78cb3c-de70-4453-80e0-4ca96be3bc14",
   "metadata": {},
   "source": [
    "The variable netflix is a special data type called a **DataFrame**, and contains everything that the \"netflix.csv\" file has. There are many functions associated with DataFrames, which we'll go over below.\n",
    "\n",
    "Now that we've imported the data, what can we do with it? First, the DataFrame's `head()` function allows us to peek at a few rows of the dataset. This will be extremely useful for making sure that we haven't made any mistakes. `head()` takes a single argument, which is how many rows you want to see."
   ]
  },
  {
   "cell_type": "code",
   "execution_count": null,
   "id": "4b62c0a0-e9a5-44c5-b732-0089ea3124f4",
   "metadata": {},
   "outputs": [],
   "source": [
    "netflix.head()"
   ]
  },
  {
   "cell_type": "markdown",
   "id": "87095a7e-05c6-4415-9323-1c51723a7ceb",
   "metadata": {},
   "source": [
    "Each column of a DataFrame must have a single data type. We can check what type each column is with its `dtypes` attribute. Note that `dtypes` is not a function, and so is not followed by parentheses.\n",
    "\n",
    "The four data types you're likely to encounter with Pandas are:\n",
    "* **int64** for integers.\n",
    "* **float64** for floating-point (decimal) values.\n",
    "* **datetime64** for dates and times (none in the Netflix data).\n",
    "* **object** for anything else. This is what you'll see for strings."
   ]
  },
  {
   "cell_type": "code",
   "execution_count": null,
   "id": "e67e1120-b750-41fa-b787-e65d9efb924e",
   "metadata": {},
   "outputs": [],
   "source": [
    "netflix.dtypes"
   ]
  },
  {
   "cell_type": "markdown",
   "id": "15bcac2f-c599-4792-a53a-c23c49806f96",
   "metadata": {},
   "source": [
    "If instead of seeing a few rows, we want to see a particular column, we can treat our DataFrame like a list and pass in the name of a column as an index using `[]`."
   ]
  },
  {
   "cell_type": "code",
   "execution_count": null,
   "id": "5b9970c8-56a7-4794-b639-717c2e527c23",
   "metadata": {},
   "outputs": [],
   "source": [
    "netflix[\"release_year\"]"
   ]
  },
  {
   "cell_type": "markdown",
   "id": "46660a3d-7335-43f0-8fce-1e8468f6b582",
   "metadata": {},
   "source": [
    "Alternatively, you can select multiple columns by passing a list of column names. This looks weird, so let's take it one step at a time. Instead of just looking at the `release_year`, let's also see the show or movie's `title`.\n",
    "\n",
    "This means that we want both column names in a list, i.e. `[\"title\", \"release_year\"]`.\n",
    "\n",
    "We then pass that list as an index to our `netflix` DataFrame (spaces added for readability):"
   ]
  },
  {
   "cell_type": "code",
   "execution_count": null,
   "id": "96a9f035-a7c8-45b6-9854-6ab81d714a2e",
   "metadata": {},
   "outputs": [],
   "source": [
    "netflix[ [\"title\",\"release_year\"] ]"
   ]
  },
  {
   "cell_type": "markdown",
   "id": "f773993c-48d1-4917-b3c0-3a997292a297",
   "metadata": {},
   "source": [
    "### Selecting Rows"
   ]
  },
  {
   "cell_type": "markdown",
   "id": "ab227dff-a0ea-4b52-a552-7a2432442607",
   "metadata": {},
   "source": [
    "Instead of selecting specific columns, we can also select specific rows using the logic we learned earlier. Let's say we want to find all of the titles released after the year 2000. We can start by using the `release_year` column:\n",
    "\n",
    "> `netflix[\"release_year\"] > 2000`\n",
    "  \n",
    "This gives us a list of values which is *True* whenever the release year is after 2000 and *False* whenever it is not.\n",
    "\n",
    "This list can then be passed to our original DataFrame, using `DataFrame.loc[]`, which takes in such a list of *True/False* values as an index."
   ]
  },
  {
   "cell_type": "code",
   "execution_count": null,
   "id": "90c773c2-c671-4378-b3f2-fb1aa375242e",
   "metadata": {},
   "outputs": [],
   "source": [
    "netflix.loc[ netflix[\"release_year\"] > 2000 ]"
   ]
  },
  {
   "cell_type": "markdown",
   "id": "bec5ae24-be90-409c-94e9-37a944e70698",
   "metadata": {},
   "source": [
    "We could also just select the movies, using `netflix[\"type\"] == \"MOVIE\"`:"
   ]
  },
  {
   "cell_type": "code",
   "execution_count": null,
   "id": "2444ae77-8e52-4cd1-a8f5-f0edb61cf230",
   "metadata": {},
   "outputs": [],
   "source": [
    "netflix.loc[ netflix[\"type\"] == \"MOVIE\" ]"
   ]
  },
  {
   "cell_type": "markdown",
   "id": "bd7ef994-ae8e-4c8b-be38-77d4d91aa637",
   "metadata": {},
   "source": [
    "Or both, selecting all of the movies released after the year 2000.\n",
    "\n",
    "Note that when combining logical statements with the *and* `&` or *or* `|` operators, each piece should be surrounded by parenthesis."
   ]
  },
  {
   "cell_type": "code",
   "execution_count": null,
   "id": "8391bc22-fadf-4633-b015-78288d046ced",
   "metadata": {},
   "outputs": [],
   "source": [
    "netflix[ (netflix[\"type\"] == \"MOVIE\") & (netflix[\"release_year\"] > 2000) ]"
   ]
  },
  {
   "cell_type": "markdown",
   "id": "4b57f683-bf48-4d41-9803-ec153a7bdbf1",
   "metadata": {},
   "source": [
    "## Summary Functions"
   ]
  },
  {
   "cell_type": "markdown",
   "id": "e40cda28-c60d-4916-8de3-48638b588ca3",
   "metadata": {},
   "source": [
    "We can get summary statistics of our DataFrame using the `DataFrame.describe()` function. This will work on both the entire DataFrame, or on individual columns."
   ]
  },
  {
   "cell_type": "code",
   "execution_count": null,
   "id": "261721db-5917-42dd-8136-2d576bbc2622",
   "metadata": {},
   "outputs": [],
   "source": [
    "netflix[\"release_year\"].describe()"
   ]
  },
  {
   "cell_type": "markdown",
   "id": "cac18046-58ea-4efd-aceb-8477a996d939",
   "metadata": {},
   "source": [
    "If you want just one of these statistics, you can use `DataFrame.count()`, `.mean()`, `.median()`, `.min()`, `.max()` and so on. There are many more, which aren't included in the output of `.describe()`, like `DataFrame.sum()`. Here's one example:"
   ]
  },
  {
   "cell_type": "code",
   "execution_count": null,
   "id": "8f67f5fa-d118-4e16-8729-fbf516192db5",
   "metadata": {},
   "outputs": [],
   "source": [
    "netflix[\"release_year\"].mean()"
   ]
  },
  {
   "cell_type": "markdown",
   "id": "bfaa4dcd-3674-4ed8-b281-d916e3d039e3",
   "metadata": {},
   "source": [
    "Unsurprisingly, we can only use these functions on the numeric (*int64* and *float64*) columns. What is the mean title on Netflix? That question doesn't even make sense, and will raise a `TypeError` because the column is the wrong data *type*."
   ]
  },
  {
   "cell_type": "code",
   "execution_count": null,
   "id": "a14a3f79-b341-4d88-bc2f-e9b2e5c13624",
   "metadata": {
    "tags": []
   },
   "outputs": [],
   "source": [
    "netflix[\"title\"].mean()"
   ]
  },
  {
   "cell_type": "markdown",
   "id": "e6eac07a-d66c-4588-99ee-f3ba2e4dfc56",
   "metadata": {},
   "source": [
    "We will be doing quite a bit with *string* data, but for now, the simplest we can do is do some counting using `DataFrame.value_counts()`. Here we see that the most common rating on Netflix titles is \"TV-MA\" with 841 titles, followed by \"R\" with 575. Only 14 titles have an \"NC-17\" rating."
   ]
  },
  {
   "cell_type": "code",
   "execution_count": null,
   "id": "af7ab1fb-883d-4c52-8117-3a881acbd3b0",
   "metadata": {},
   "outputs": [],
   "source": [
    "netflix[\"age_certification\"].value_counts()"
   ]
  },
  {
   "cell_type": "markdown",
   "id": "994022d5-ad8a-452e-9452-61e2091a7e00",
   "metadata": {},
   "source": [
    "You can count the values of any column, regardless of data type. However, it only makes sense when a column has repeated values, for example the `age_certification` or `type` columns. Counting the `title` column will tell you that most movies and TV shows have unique titles. Counting the `release_year` column will tell you how many Netflix titles are from a particular year."
   ]
  },
  {
   "cell_type": "code",
   "execution_count": null,
   "id": "525f897e-8675-4eb6-a3ab-b5a1268e3fc5",
   "metadata": {},
   "outputs": [],
   "source": [
    "netflix[\"title\"].value_counts()"
   ]
  },
  {
   "cell_type": "markdown",
   "id": "8438d2c2-597e-4ebe-94e7-5ccf0b3eccd4",
   "metadata": {},
   "source": [
    "## Putting it Together"
   ]
  },
  {
   "cell_type": "markdown",
   "id": "af77001b-6059-441f-9475-71af167fc730",
   "metadata": {},
   "source": [
    "Each of these functions returns a DataFrame (or, if the result is only a single column, a **Series** which is very similar), and so you can use multiple functions in a row.\n",
    "\n",
    "**Example 1.** Let's say we want to look at recent (after the year 2000) movies, and see what their ratings are. We start by making a logical expression for recent movies:\n",
    "\n",
    "> `(netflix[\"type\"] == \"MOVIE\") & (netflix[\"release_year\"] > 2000)`\n",
    "\n",
    "And then select those using `DataFrame.loc[]`. To make this easier to read, I'm going to store this result in a new variable, `recentmovies`.\n",
    "\n",
    "> `recentmovies = netflix.loc[ (netflix[\"type\"] == \"MOVIE\") & (netflix[\"release_year\"] > 2000) ]`\n",
    "\n",
    "Now, with `recentmovies`, we can count how many there are of each rating:\n",
    "\n",
    "> `recentmovies[\"age_certification\"].value_counts()`"
   ]
  },
  {
   "cell_type": "code",
   "execution_count": null,
   "id": "9b511abf-1551-4e64-b667-2590337aad49",
   "metadata": {},
   "outputs": [],
   "source": [
    "recentmovies = netflix.loc[ (netflix[\"type\"] == \"MOVIE\") & (netflix[\"release_year\"] > 2000) ]\n",
    "\n",
    "recentmovies[\"age_certification\"].value_counts()"
   ]
  },
  {
   "cell_type": "markdown",
   "id": "9da81aab-a8b0-464a-a035-130266b6ba56",
   "metadata": {},
   "source": [
    "**Example 2.** Now, let's find what the average IMDB user rating of television shows. Let's build this up step by step. First, select only television shows. This requires the logical statement:\n",
    "\n",
    "> `netflix[\"type\"] == \"SHOW\"`\n",
    "\n",
    "Now, select those using `DataFrame.loc[]`:\n",
    "\n",
    "> `netflix.loc[ netflix[\"type\"] == \"SHOW\" ]`\n",
    "\n",
    "As above, we could store this new DataFrame as a new variable, like `shows`, but we don't have to. We can instead just keep adding indices and member functions, and it will work just fine. It's a bit less readable, though.\n",
    "\n",
    "Since we want the IMDB user ratings, we'll select that column:\n",
    "\n",
    "> `netflix.loc[ netflix[\"type\"] == \"SHOW\" ][\"imdb_score\"]`\n",
    "\n",
    "And then finally, using `DataFrame.mean()`:"
   ]
  },
  {
   "cell_type": "code",
   "execution_count": null,
   "id": "fa812498-b4f3-4bf5-a51c-a74173b15ffc",
   "metadata": {},
   "outputs": [],
   "source": [
    "netflix.loc[ netflix[\"type\"] == \"SHOW\" ][\"imdb_score\"].mean()"
   ]
  }
 ],
 "metadata": {
  "kernelspec": {
   "display_name": "Python 3 (ipykernel)",
   "language": "python",
   "name": "python3"
  },
  "language_info": {
   "codemirror_mode": {
    "name": "ipython",
    "version": 3
   },
   "file_extension": ".py",
   "mimetype": "text/x-python",
   "name": "python",
   "nbconvert_exporter": "python",
   "pygments_lexer": "ipython3",
   "version": "3.9.12"
  }
 },
 "nbformat": 4,
 "nbformat_minor": 5
}
