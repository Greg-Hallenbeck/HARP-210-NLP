{
 "cells": [
  {
   "cell_type": "markdown",
   "id": "e7415908-8f97-4095-8b73-bd77285961c6",
   "metadata": {},
   "source": [
    "# Exercises for Pandas/Seaborn\n",
    "\n",
    "The dataset we'll be using contains news headline data, source, sentiment, and shares to social media. You can [download it from the UCI Machine Learning Repository](https://archive.ics.uci.edu/ml/machine-learning-databases/00432/Data/News_Final.csv). You *can* just import it using `pd.read_csv()` pointing to the URL, but it's a large file, so download it once.\n",
    "\n",
    "### Load Libraries"
   ]
  },
  {
   "cell_type": "code",
   "execution_count": null,
   "id": "1e53d15b-712e-4a44-84da-2a8772a9447e",
   "metadata": {},
   "outputs": [],
   "source": [
    "import pandas as pd\n",
    "import matplotlib.pyplot as plt\n",
    "import seaborn as sns"
   ]
  },
  {
   "cell_type": "markdown",
   "id": "92d9a303-1b17-4bb1-ac81-dbfa702c3b68",
   "metadata": {},
   "source": [
    "___\n",
    "## Day 1: Intro to Pandas\n",
    "\n",
    "### Introductory Bits\n",
    "\n",
    "* Load in the dataset to a variable called `news`, and view the first 3 rows.\n",
    "* What are the pandas datatypes of each column? For any of the \"object\"s, can you state what the Python data type is?"
   ]
  },
  {
   "cell_type": "code",
   "execution_count": null,
   "id": "c6a613a7-9d62-4fdf-a45b-7d8a271fc7e7",
   "metadata": {},
   "outputs": [],
   "source": [
    "news = pd.read_csv(\"https://raw.githubusercontent.com/Greg-Hallenbeck/HARP-210-NLP/main/pandas/news.csv\")"
   ]
  },
  {
   "cell_type": "code",
   "execution_count": null,
   "id": "b2d84bbd-038d-4e82-a167-35e852603904",
   "metadata": {},
   "outputs": [],
   "source": []
  },
  {
   "cell_type": "markdown",
   "id": "80b9738b-5492-4cb6-a0e7-12d4a0a16d64",
   "metadata": {},
   "source": [
    "___\n",
    "### Selecting Rows and Columns\n",
    "\n",
    "Select the GooglePlus column."
   ]
  },
  {
   "cell_type": "code",
   "execution_count": null,
   "id": "74a52286-9c07-4c79-9c9a-0420c38ee61c",
   "metadata": {},
   "outputs": [],
   "source": []
  },
  {
   "cell_type": "markdown",
   "id": "0e678d2a-1ca6-4998-8cd0-a952ab97924c",
   "metadata": {},
   "source": [
    "Select both the Headline and the GooglePlus column."
   ]
  },
  {
   "cell_type": "code",
   "execution_count": null,
   "id": "c14c4658-6fdc-48ee-9e37-cfe62a5ad09c",
   "metadata": {},
   "outputs": [],
   "source": []
  },
  {
   "cell_type": "markdown",
   "id": "7c035597-d873-46a0-9cc9-28fb689c3c7f",
   "metadata": {},
   "source": [
    "Select all of the Title and Headlines where the topic is \"obama\""
   ]
  },
  {
   "cell_type": "code",
   "execution_count": null,
   "id": "f2a42021-701b-4e0f-a97f-a8ad84287f24",
   "metadata": {},
   "outputs": [],
   "source": []
  },
  {
   "cell_type": "markdown",
   "id": "3a97b826-9cb2-4047-9aac-d2f7df2a1bf6",
   "metadata": {},
   "source": [
    "Select all of the Titles and # of Facebook likes for the articles which received at least 20k likes."
   ]
  },
  {
   "cell_type": "code",
   "execution_count": null,
   "id": "4f9a75d3-e436-430e-9788-82ebfe173235",
   "metadata": {},
   "outputs": [],
   "source": []
  },
  {
   "cell_type": "markdown",
   "id": "1d0ec3f0-69e4-4a95-84cc-561c418cc88d",
   "metadata": {},
   "source": [
    "I'm trying to select the Source and Topics columns. What am I doing wrong?"
   ]
  },
  {
   "cell_type": "code",
   "execution_count": null,
   "id": "051584af-45c9-4b74-af0c-91eb8d08f909",
   "metadata": {},
   "outputs": [],
   "source": [
    "news[\"Source\", \"Topics\"]"
   ]
  },
  {
   "cell_type": "markdown",
   "id": "e071964c-dfc1-43f6-a36b-6dae60cc2948",
   "metadata": {},
   "source": [
    "I'm trying to find all of the articles written by USA Today. What am I doing wrong?"
   ]
  },
  {
   "cell_type": "code",
   "execution_count": null,
   "id": "b6e584a4-336f-4011-b200-ee76f8a362cc",
   "metadata": {},
   "outputs": [],
   "source": [
    "news[ news[\"Source\"] == \"USA TODAY\" ]"
   ]
  },
  {
   "cell_type": "markdown",
   "id": "5a162607-6529-4bbd-afe2-277fe54c261d",
   "metadata": {},
   "source": [
    "___\n",
    "### Summary Functions"
   ]
  },
  {
   "cell_type": "markdown",
   "id": "6c046468-4070-4aab-951d-fa448a51f172",
   "metadata": {},
   "source": [
    "I want to calculate the maximum number of Facebook likes of all articles. What am I doing wrong?"
   ]
  },
  {
   "cell_type": "code",
   "execution_count": null,
   "id": "177f3fff-3390-445f-8db8-7daa74924c6b",
   "metadata": {},
   "outputs": [],
   "source": [
    "news.max(\"Facebook\")"
   ]
  },
  {
   "cell_type": "markdown",
   "id": "5328d2a8-195a-4912-a545-70862756fd9b",
   "metadata": {},
   "source": [
    "There are four topics in the dataset: Obama, the economy, Palestine, and Microsoft. How many articles are there for each topic?"
   ]
  },
  {
   "cell_type": "code",
   "execution_count": null,
   "id": "4387191a-8e14-4314-b8c8-ed8313d166a7",
   "metadata": {},
   "outputs": [],
   "source": []
  },
  {
   "cell_type": "markdown",
   "id": "cddf8ca3-e58a-4a33-89a0-2ef78b325ad0",
   "metadata": {},
   "source": [
    "What are the maximum and minimum number of likes on Facebook across all these articles?"
   ]
  },
  {
   "cell_type": "code",
   "execution_count": null,
   "id": "02600da0-c4f3-43b5-88cf-e320e92ffbfb",
   "metadata": {},
   "outputs": [],
   "source": []
  },
  {
   "cell_type": "markdown",
   "id": "2060d703-0380-454c-bb8f-77956a32fe5e",
   "metadata": {},
   "source": [
    "What is the average number of likes on Facebook across all these articles?"
   ]
  },
  {
   "cell_type": "code",
   "execution_count": null,
   "id": "ff9afdb1-31c2-4e08-af0e-4f627eb9e515",
   "metadata": {},
   "outputs": [],
   "source": []
  },
  {
   "cell_type": "markdown",
   "id": "402e5fc8-9e76-4428-973b-f674ddd8d561",
   "metadata": {},
   "source": [
    "You should have seen that some articles have -1 likes. This means they weren't shared at all. What is the average number of likes on Facebook across all articles, if we remove all of the articles with -1 likes?"
   ]
  },
  {
   "cell_type": "code",
   "execution_count": null,
   "id": "820b53dd-11a7-410a-a0ea-86c1e30064fe",
   "metadata": {},
   "outputs": [],
   "source": []
  },
  {
   "cell_type": "markdown",
   "id": "ea41129c-4007-4aad-b86f-46197a4ac880",
   "metadata": {},
   "source": [
    "What's the average number of LinkedIn \"likes\" for articles with the topic \"palestine\"? Make sure that you only include articles with at least 0 likes, as above."
   ]
  },
  {
   "cell_type": "code",
   "execution_count": null,
   "id": "17214075-864c-440c-8ab3-ba1116a9426e",
   "metadata": {},
   "outputs": [],
   "source": []
  },
  {
   "cell_type": "markdown",
   "id": "6ee7856d-0a4e-44d1-80a5-4bedfaff2630",
   "metadata": {},
   "source": [
    "What are the 3 most common sources in the dataset?"
   ]
  },
  {
   "cell_type": "code",
   "execution_count": null,
   "id": "b6100fa6-9bb7-48ae-8964-42e7aa7ea006",
   "metadata": {},
   "outputs": [],
   "source": []
  },
  {
   "cell_type": "markdown",
   "id": "5f9a87e8-7ac3-4364-9da8-a16465223004",
   "metadata": {},
   "source": [
    "I want to calculate the average title sentiment for all Reuters articles. What am I doing wrong?"
   ]
  },
  {
   "cell_type": "code",
   "execution_count": null,
   "id": "df346a0d-d3f3-4ac9-b52c-1b3bd42c943e",
   "metadata": {},
   "outputs": [],
   "source": [
    "news[\"SentimentTitle\"].mean().loc[ news[\"Source\"] == \"Reuters\" ]"
   ]
  },
  {
   "cell_type": "markdown",
   "id": "f48cdb4c-6410-4d55-b2da-f99488bfb2cf",
   "metadata": {},
   "source": [
    "What is the title of the article with the most LinkedIn likes?"
   ]
  },
  {
   "cell_type": "code",
   "execution_count": null,
   "id": "923a4153-ae4a-49f3-8e20-7a57419ff574",
   "metadata": {},
   "outputs": [],
   "source": []
  },
  {
   "cell_type": "markdown",
   "id": "3865b904-bd97-4624-9433-cfd9b92fe0d5",
   "metadata": {},
   "source": [
    "___\n",
    "## Day 2: Data Manipulation\n",
    "\n",
    "### Grouping and Summarizing\n",
    "\n",
    "What is the average number of Facebook likes for each of the four main topics in the dataset?"
   ]
  },
  {
   "cell_type": "code",
   "execution_count": null,
   "id": "a1e7cebb-3c2b-4e28-9836-a4f60f403a8a",
   "metadata": {},
   "outputs": [],
   "source": []
  },
  {
   "cell_type": "markdown",
   "id": "4aa6fa33-20bb-48a5-a1f9-4eed31355bd0",
   "metadata": {},
   "source": [
    "Make an indicator column called `Shared` indicating whether a story was shared on Facebook or not (you can tell if it's shared because the number of likes is 0 or higher)."
   ]
  },
  {
   "cell_type": "code",
   "execution_count": null,
   "id": "8d29b613-9987-46ba-9da8-9aba2b996db6",
   "metadata": {},
   "outputs": [],
   "source": []
  },
  {
   "cell_type": "markdown",
   "id": "94b4f46d-d1e5-4cc5-b5ed-e73a7cd7d6d4",
   "metadata": {},
   "source": [
    "Using only the articles which were shared, what was the average number of likes for each topic?"
   ]
  },
  {
   "cell_type": "code",
   "execution_count": null,
   "id": "af176ae9-d530-4d94-90a0-e041ffbd7f52",
   "metadata": {},
   "outputs": [],
   "source": []
  },
  {
   "cell_type": "markdown",
   "id": "8d8bdbd5-0a4f-4158-9c7f-4cd1a6f06a9f",
   "metadata": {},
   "source": [
    "Make a new column called `SocialMedia` which is equal to the 3 social media \"likes\" added together."
   ]
  },
  {
   "cell_type": "code",
   "execution_count": null,
   "id": "1f3f2f8e-32c3-4d42-9274-9627870a8668",
   "metadata": {},
   "outputs": [],
   "source": []
  },
  {
   "cell_type": "markdown",
   "id": "fc517b5a-3f57-4a86-8b79-6529b7f6ad7c",
   "metadata": {},
   "source": [
    "**Fun Problem.** Make a new column called `MaxMedia` which is equal to the *highest* of the Facebook, Google+, and LinkedIn number of likes. You'll have to look at the [`.max()` function documentation](https://pandas.pydata.org/docs/reference/api/pandas.Series.max.html) for this."
   ]
  },
  {
   "cell_type": "code",
   "execution_count": null,
   "id": "fb6a7b6b-5da6-4781-9232-043327ec6b40",
   "metadata": {},
   "outputs": [],
   "source": []
  },
  {
   "cell_type": "markdown",
   "id": "e4960af2-50b1-40e4-8b19-be3251b6fec7",
   "metadata": {},
   "source": [
    "___\n",
    "### String Manipulation Functions in Pandas"
   ]
  },
  {
   "cell_type": "markdown",
   "id": "fc17f3e8-a462-4e87-b6ef-8291c8754671",
   "metadata": {},
   "source": [
    "Convert all of the titles to be entirely lowercase."
   ]
  },
  {
   "cell_type": "code",
   "execution_count": null,
   "id": "76e30828-2188-4b87-9b3a-b5d9a84255e7",
   "metadata": {},
   "outputs": [],
   "source": []
  },
  {
   "cell_type": "markdown",
   "id": "b8e149da-7d4d-4e08-86cf-9e5dd3b30399",
   "metadata": {},
   "source": [
    "What is the average length of a title, in characters? How long in words (roughly)?"
   ]
  },
  {
   "cell_type": "code",
   "execution_count": null,
   "id": "5576e723-9113-4b60-acf9-d7219a0b7014",
   "metadata": {},
   "outputs": [],
   "source": []
  },
  {
   "cell_type": "markdown",
   "id": "a7fa6457-e015-4f54-8cb1-f36f9c6248dc",
   "metadata": {},
   "source": [
    "What is the title of the article with the longest (by characters) title?"
   ]
  },
  {
   "cell_type": "code",
   "execution_count": null,
   "id": "dd115ea4-a949-4831-9fcb-87a2dfad53c3",
   "metadata": {},
   "outputs": [],
   "source": []
  },
  {
   "cell_type": "markdown",
   "id": "e9bb19ef-6d35-47bb-939f-97db6587540f",
   "metadata": {},
   "source": [
    "Create an indicator column that indicates whether or not Obama is mentioned in the title of an article. How frequently is he name-dropped in articles about him? In articles about Palestine?"
   ]
  },
  {
   "cell_type": "code",
   "execution_count": null,
   "id": "e5d40e7b-fc79-4d5f-a01d-1fffc96e2147",
   "metadata": {},
   "outputs": [],
   "source": []
  },
  {
   "cell_type": "markdown",
   "id": "e7732ec1-db06-498d-903f-aaae4ac37360",
   "metadata": {},
   "source": [
    "Remove Finland from all of the article titles (i.e. replace the country name with \"\")"
   ]
  },
  {
   "cell_type": "code",
   "execution_count": null,
   "id": "9803e725-9b73-437e-93e5-d85fee8ea692",
   "metadata": {},
   "outputs": [],
   "source": []
  },
  {
   "cell_type": "markdown",
   "id": "eb640988-e9db-494f-b4eb-ad7388de2bfe",
   "metadata": {},
   "source": [
    "**Fun Problem.** Make a new column, called `firstword`, which is the first word in each title."
   ]
  },
  {
   "cell_type": "code",
   "execution_count": null,
   "id": "8ca48997-45f7-46d0-9a84-0f0829c0cd0b",
   "metadata": {},
   "outputs": [],
   "source": []
  },
  {
   "cell_type": "markdown",
   "id": "adc260e5-7fba-46f3-8f0d-671febacc972",
   "metadata": {},
   "source": [
    "___\n",
    "## Day 3: Data Visualization with Seaborn"
   ]
  },
  {
   "cell_type": "markdown",
   "id": "40a136c4-1dc3-4bf7-9d0f-fca2af6a3a18",
   "metadata": {},
   "source": [
    "___\n",
    "### Histogram\n",
    "\n",
    "* Make a histogram showing the title sentiment value\n",
    "* Set the bin width to 0.1.\n",
    "* Add descriptive axis labels.\n",
    "* I've often found that the standard sentiment-labelling techniques just sort of give you random values, with most sentiment values very close to 0. Does this seem to be the case for this dataset?"
   ]
  },
  {
   "cell_type": "code",
   "execution_count": null,
   "id": "afc77639-1a3f-499c-a187-16316c3fd556",
   "metadata": {},
   "outputs": [],
   "source": []
  },
  {
   "cell_type": "markdown",
   "id": "4a911b17-ad8d-4bae-bbb2-03f1278d5f26",
   "metadata": {},
   "source": [
    "___\n",
    "### Scatterplot\n",
    "\n",
    "* Create a `Length` column in your dataset that is the length of a title, in letters.\n",
    "* Plot the length of a title on the x axis and the number of likes on Google+ on the y.\n",
    "* Remove the outliers from the plot by adjusting the y limits to be from 0 to 250.\n",
    "* Add labels to the axes.\n",
    "* What trends do you notice in the popularity of posts?"
   ]
  },
  {
   "cell_type": "code",
   "execution_count": null,
   "id": "9e20400a-8f4d-4817-8b4b-1450252ed891",
   "metadata": {},
   "outputs": [],
   "source": []
  },
  {
   "cell_type": "markdown",
   "id": "ea0350de-4887-4abf-82c6-91fe6b246858",
   "metadata": {},
   "source": [
    "___\n",
    "### Countplot\n",
    "\n",
    "* Make a countplot showing how many articles are in the dataset from each of the sources.\n",
    "* Rotate the x axis labels by 90 degrees so that they're readable.\n",
    "* Add descriptive axis labels.\n",
    "* Add a hue to the plot so we can see how often each source reports on each topic.\n",
    "* Figure out how to stack the plots instead of dodging by [reading the documentation](https://seaborn.pydata.org/generated/seaborn.countplot.html)\n",
    "* Comment on the results. Why do the different sources report on different topics?"
   ]
  },
  {
   "cell_type": "code",
   "execution_count": null,
   "id": "7289faed-84d2-4d13-a5db-8ea98f3be393",
   "metadata": {},
   "outputs": [],
   "source": []
  },
  {
   "cell_type": "markdown",
   "id": "694f20ad-4ddb-45b0-8da0-ecf4c34af565",
   "metadata": {},
   "source": [
    "___\n",
    "### Boxplot\n",
    "\n",
    "* Make a boxplot showing the number of likes each topic gets on Facebook.\n",
    "* Change the y scale to \"log\" using `plt.yscale(\"log\")`. Make sure you can read the axis.\n",
    "* Use the `order=` keyword argument to put the plots in order based on the median number of likes.\n",
    "* Add descriptive labels on the axes.\n",
    "* Comment on the result. Do different topics typically have different popularities?"
   ]
  },
  {
   "cell_type": "code",
   "execution_count": null,
   "id": "d09122f0-54f5-48ae-aca5-bd7994d77840",
   "metadata": {},
   "outputs": [],
   "source": []
  },
  {
   "cell_type": "markdown",
   "id": "7f4062ac-a66d-4ca6-964b-0ef3b1c4dff1",
   "metadata": {},
   "source": [
    "___\n",
    "### Additional Plots\n",
    "\n",
    "Load in the Netflix dataset we worked through in class, and produce at least 3 more data visualizations, and comment on them. What information should a viewer get from them?"
   ]
  },
  {
   "cell_type": "code",
   "execution_count": null,
   "id": "baf6f504-c168-4b7e-8ecb-472a87b0a605",
   "metadata": {},
   "outputs": [],
   "source": []
  }
 ],
 "metadata": {
  "kernelspec": {
   "display_name": "Python 3 (ipykernel)",
   "language": "python",
   "name": "python3"
  },
  "language_info": {
   "codemirror_mode": {
    "name": "ipython",
    "version": 3
   },
   "file_extension": ".py",
   "mimetype": "text/x-python",
   "name": "python",
   "nbconvert_exporter": "python",
   "pygments_lexer": "ipython3",
   "version": "3.9.12"
  }
 },
 "nbformat": 4,
 "nbformat_minor": 5
}
