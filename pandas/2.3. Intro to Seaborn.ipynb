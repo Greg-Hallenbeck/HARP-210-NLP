{
 "cells": [
  {
   "cell_type": "markdown",
   "id": "766109b0-6a95-4130-91da-8775b8ea5f36",
   "metadata": {},
   "source": [
    "# Introduction to Seaborn/Matplotlib"
   ]
  },
  {
   "cell_type": "markdown",
   "id": "8ff13b8a-f385-479a-9a96-3e0283a13345",
   "metadata": {},
   "source": [
    "## Skills\n",
    "\n",
    "* Load data into Python using the pandas module.\n",
    "* Select columns using `[]` and rows using `DataFrame.loc[]`.\n",
    "* Summarize columns with basic descriptive statistics.\n",
    "* Summarize by category using `DataFrame.groupby()`\n",
    "* Create new columns.\n",
    "* Use built-in Pandas string manipulation functions.\n",
    "* **Visualize data using Seaborn and Matplotlib.**"
   ]
  },
  {
   "cell_type": "code",
   "execution_count": null,
   "id": "a6f05c41-50b9-4913-b9b7-57c5f2b19a47",
   "metadata": {},
   "outputs": [],
   "source": [
    "import pandas as pd\n",
    "import matplotlib.pyplot as plt\n",
    "import seaborn as sns"
   ]
  },
  {
   "cell_type": "code",
   "execution_count": null,
   "id": "2cc9fabb-b8a2-4173-b3e0-08f514898dfd",
   "metadata": {},
   "outputs": [],
   "source": [
    "netflix = pd.read_csv(\"netflix.csv\")\n",
    "\n",
    "netflix.head(3)"
   ]
  },
  {
   "cell_type": "markdown",
   "id": "ee5ab045-1171-491f-a4b9-5ccbda8b6130",
   "metadata": {},
   "source": [
    "Now that we can load, manipulate, and summarize data, the Seaborn and Matplotlib packages (traditionally loaded with the names *sns* and *plt*, respectively) will let us make graphs to visualize that data.\n",
    "\n",
    "We'll start with four basic kinds of plots:\n",
    "\n",
    "1. Histogram\n",
    "2. Bar Plot\n",
    "3. Scatterplot\n",
    "4. Boxplot\n",
    "\n",
    "Seaborn does a good job of making the plots look *pretty good* by default, but we'll want to tweak those plots as well, to clean up axes labels, tweak colors and sizes of plots, and so on. The defaults are very easy to learn, as are a few tweaks, but there are *a lot* of them, and will require frequent reading of the documentation and Google to go from merely proficient to skilled. "
   ]
  },
  {
   "cell_type": "markdown",
   "id": "cc31e41f-fbc9-4a03-9c8b-1a639872d1d2",
   "metadata": {},
   "source": [
    "## Basic Plots\n",
    "\n",
    "Before making a graph, we need to decide what *kind* of graph we want.\n",
    "\n",
    "##### 1. Is the data we're plotting numeric or categorical?\n",
    "\n",
    "Recall that \"categorical\" isn't Python or Pandas datatype, but a variable that can take a small number of values. \n",
    "\n",
    "This distinction is important for making a plot because numeric variables have an inherent numbering and spacing to them: 5 is larger than 2, and the distance from 3 to 4 is the same as the distance from 100 to 101. Categorical data don't have this: is \"romance\" larger than \"comedy\"? How far should \"horror\" and \"romance\" be from each other?\n",
    "\n",
    "##### 2. Are we examining the counts of a single variable, or comparing two variables?\n",
    "\n",
    "I hope this one is self-explanatory. Are you looking at the counts of how many movies are rated \"R\" (just examining one variable)? Or are you looking at the typical IMDB rating for each rating (looking at two variables)?\n",
    "\n",
    "Here's a handy summary of the basic graph types based on these questions:\n",
    "\n",
    "| Data Type        | One Variable | Two Variables|\n",
    "| ---------------- | ------------------- | ----------------------- |\n",
    "| **Numeric**     | Histogram           | Scatterplot             |\n",
    "| **Categorical** | Bar Plot            | Boxplot |\n"
   ]
  },
  {
   "cell_type": "markdown",
   "id": "127722a3-2c58-486c-ad54-1fedf7484b92",
   "metadata": {},
   "source": [
    "#### Histogram\n",
    "\n",
    "A *histogram* is a visualization showing how often a variable takes a particular value.\n",
    "\n",
    "Let's produce one to see the IMDB user scores for each of the movies in the dataset:"
   ]
  },
  {
   "cell_type": "markdown",
   "id": "8844658a-f152-483a-8717-3eabda709f50",
   "metadata": {},
   "source": [
    "Here, the function we're using is `sns.histplot()`, and it takes two keyword arguments: `data=`, which should be set to the DataFrame we want to pull data from, and `x=`, which is a string telling Seaborn which column of the DataFrame to plot. You can pass the entire column itself, i.e. `x=netflix[\"imdb_score\"]`, but that is not necessary.\n",
    "\n",
    "After all plotting commands, we end with `plt.show()` which tells Matplotlib to display the plot. If you don't include this line, you should still see the plot (in JupyterLab, anyway), but you may also get some additional output that you're not interested in."
   ]
  },
  {
   "cell_type": "code",
   "execution_count": null,
   "id": "470ae45e-4d12-4017-9823-42cafc215153",
   "metadata": {},
   "outputs": [],
   "source": [
    "movies = netflix.loc[ netflix[\"type\"] == \"MOVIE\" ]\n",
    "\n",
    "sns.histplot(data=movies, x=\"imdb_score\")\n",
    "\n",
    "plt.show()"
   ]
  },
  {
   "cell_type": "markdown",
   "id": "c45deec0-faf0-461d-9764-077c444828cc",
   "metadata": {},
   "source": [
    "The most common score for a movie on Netflix (based on IMDB users) is about 6.5, but is typically between 5 and 8. A very small number of movies have scores below 5."
   ]
  },
  {
   "cell_type": "markdown",
   "id": "0bc3774c-8843-4f4c-948b-eeebefcf9962",
   "metadata": {},
   "source": [
    "#### Bar Plot\n",
    "\n",
    "A *bar plot* is exactly the same as a histogram, but for categorical data.\n",
    "\n",
    "Let's see how many movies have different ratings. This uses the function `sns.countplot()`, but otherwise takes the same keyword arguments as `sns.histplot()`:"
   ]
  },
  {
   "cell_type": "code",
   "execution_count": null,
   "id": "325b41e1-8135-486e-bcfe-24032b2f8420",
   "metadata": {},
   "outputs": [],
   "source": [
    "sns.countplot(data=movies, x=\"age_certification\")\n",
    "\n",
    "plt.show()"
   ]
  },
  {
   "cell_type": "markdown",
   "id": "31203778-6786-44f9-9407-6882074a3963",
   "metadata": {},
   "source": [
    "Most of the movies on netflix with an MPAA rating are R, followed by PG-13. Very few movies on Netflix have a rating of NC-17.\n",
    "\n",
    "Once again, we'll fix the axis labels and put the x axis in a more reasonable order later."
   ]
  },
  {
   "cell_type": "markdown",
   "id": "9286d4c6-6a86-4efd-a8a9-e712cc372317",
   "metadata": {},
   "source": [
    "#### Scatterplot\n",
    "\n",
    "A *scatterplot* plots two separate numeric variables on its x and y axes. This is what I tend to think of when someone says \"make a graph of...\", probably influenced by my highschool math and science classes.\n",
    "\n",
    "Let's see whether the ratings from IMDB and TMDB users are similar or not.\n",
    "\n",
    "Just like above, we use a Seaborn function: `sns.scatterplot()`, but now need both `x=` and `y=` keyword arguments."
   ]
  },
  {
   "cell_type": "code",
   "execution_count": null,
   "id": "2f1de742-b7e3-4102-a374-593458de12b3",
   "metadata": {},
   "outputs": [],
   "source": [
    "sns.scatterplot(data=netflix, x=\"imdb_score\", y=\"tmdb_score\")\n",
    "\n",
    "plt.show()"
   ]
  },
  {
   "cell_type": "markdown",
   "id": "580680bb-f964-4e9e-859f-0ff441944f9a",
   "metadata": {},
   "source": [
    "Typically, TMBD and IMDB scores are close (within about 1-2 points of each other), but there is quite a bit of scatter. Some TMDB scores are exactly 1 or 10 (presumably the maximum and minimum possible), even when the IMDB score is more neutral."
   ]
  },
  {
   "cell_type": "markdown",
   "id": "b167ae1e-990e-4dc8-b875-937fa8747ee4",
   "metadata": {},
   "source": [
    "#### Boxplot\n",
    "\n",
    "A boxplot is like a scatterplot but one of your variables is categorical. You may not be familiar with boxplots, but they are fairly straightforward to interpret, it just takes some getting used to.\n",
    "* In the center of the box is a line, which represents the median value.\n",
    "* The box itself tells you where 50% of all of the data lie.\n",
    "* The long lines (called \"whiskers\" or \"outer fences\") tell you what \"normal\" data are. This is a rather arbitrary cut-off.\n",
    "* The individual points are \"outliers\", and are expected to be unusually high or low value observations.\n",
    "\n",
    "Pay close attention to the center line and the box for trends, and see if there are many outliers or not. If a box looks particularly strange (e.g. it's just a line or has no whiskers), then there probably isn't enough data to make a good boxplot.\n",
    "\n",
    "**Example.** Are longer-running series generally higher-rated? Let's make a boxplot using `sns.boxplot()`, which takes the same keyword arguments as `sns.scatterplot()`:"
   ]
  },
  {
   "cell_type": "code",
   "execution_count": null,
   "id": "07057222-1ba0-4a24-b1d9-356ba673ee01",
   "metadata": {},
   "outputs": [],
   "source": [
    "eightorless = netflix.loc[netflix[\"seasons\"] <= 8]\n",
    "\n",
    "sns.boxplot(data=eightorless, x=\"seasons\", y=\"imdb_score\")\n",
    "\n",
    "plt.show()"
   ]
  },
  {
   "cell_type": "markdown",
   "id": "cbf15124-2683-4a87-a6d6-2ea2be2f2b5e",
   "metadata": {},
   "source": [
    "(I removed shows with more than 8 seasons because there are very few of them. Try putting them back and you'll see how much of a mess the visualization is.)\n",
    "\n",
    "From looking at the center-lines, it looks like longer-running shows do have higher overall ratings, but it's a small effect (only one point higher). The effect may stop after 6 seasons, but this may be due to small numbers of long-running shows."
   ]
  },
  {
   "cell_type": "markdown",
   "id": "50d8a109-5114-41b6-a817-4c85e10acea0",
   "metadata": {},
   "source": [
    "#### Other kinds of plots\n",
    "\n",
    "We are just scratching the surface of Seaborn in this course. Check out the [example gallery](https://seaborn.pydata.org/examples/index.html) on the main site to see more."
   ]
  },
  {
   "cell_type": "markdown",
   "id": "f50b94a4-cb67-43f1-b941-0327d2af1c0a",
   "metadata": {},
   "source": [
    "## Improving Plots"
   ]
  },
  {
   "cell_type": "markdown",
   "id": "2b032a70-4ecc-43bd-ae0b-5607eca71705",
   "metadata": {},
   "source": [
    "Now we're going to revisit the previous plots and dig into the additional options Seaborn provides to clean them up.\n",
    "\n",
    "#### The Histogram, Revisited\n",
    "\n",
    "Let's take a look at the API reference for [Seaborn's histogram plot](https://seaborn.pydata.org/generated/seaborn.histplot.html). We have used only the `data=` and `x=` keyword arguments, but you can see there are *many, many more*.\n",
    "\n",
    "* Let's start with `bindwidth=`, which allows us to adjust how wide the bins are. Try making it very small (0.01) or large (2) to see how it affects the plot. I think that a value of 0.5 looks good, so we'll use that.\n",
    "* Second, `stat=` lets us change which statistic is being plotted on the y axis. The default is \"count\", that is, how many observations are in each bin. With `stat=\"probability\"`, we can instead plot the probability that, if you picked an observation at random, it would fit in that bin. This option for `stat=` is better if you're trying to generalize from a sample (\"there are 10 people in this group\") to the whole population (\"about 20% of people are in this group\")\n",
    "* In addition, let's use a few functions from Matplotlib. `plt.xlabel()` lets us change what the label on the x axis is (there's a corresponding `plt.ylabel()` as well), and `plt.xlim()` lets us change the axis range on the x axis. These Matplotlib functions will be used over and over again"
   ]
  },
  {
   "cell_type": "code",
   "execution_count": null,
   "id": "37a610f2-45e6-40b2-a498-7af1e782e037",
   "metadata": {},
   "outputs": [],
   "source": [
    "sns.histplot(data=movies, x=\"imdb_score\",\n",
    "             binwidth=0.5, stat=\"probability\")\n",
    "\n",
    "plt.xlabel(\"IMDB Score\")\n",
    "plt.xlim(1,10)\n",
    "plt.ylim(0,0.2)\n",
    "plt.show()"
   ]
  },
  {
   "cell_type": "markdown",
   "id": "c9cb9d9c-a5f4-4def-bba6-2d2417a240c5",
   "metadata": {},
   "source": [
    "We made the above plot for just movies, but what if we wanted to compare movies and TV shows?\n",
    "\n",
    "* For that, there's the `hue=` keyword. If you pass a categorical column to `hue=`, the histogram will be split and each bar colored by category. The gray area is where the bars overlap.\n",
    "* Try adding a `multiple=` keyword (it can take the values \"layer\", \"dodge\", \"stack\", or \"fill\") to see what it does. Each one shows different information about the data. When would you want to use each?"
   ]
  },
  {
   "cell_type": "code",
   "execution_count": null,
   "id": "dd301eef-819f-469a-8bd8-870a328fc5bc",
   "metadata": {},
   "outputs": [],
   "source": [
    "sns.histplot(data=netflix, x=\"imdb_score\",\n",
    "             binwidth=0.5, hue=\"type\")\n",
    "\n",
    "plt.xlabel(\"IMDB Score\")\n",
    "plt.show()"
   ]
  },
  {
   "cell_type": "markdown",
   "id": "e449a328-f559-403e-ab47-207c56389434",
   "metadata": {},
   "source": [
    "#### The Bar Plot, Revisited"
   ]
  },
  {
   "cell_type": "markdown",
   "id": "9ee6cc09-f3e0-45fb-b119-d6e2bb79b80e",
   "metadata": {},
   "source": [
    "Once again, here's a link to the [Seaborn Countplot API](https://seaborn.pydata.org/generated/seaborn.countplot.html). Let's make two changes to our bar plot.\n",
    "\n",
    "* Change the labels on the x and y axes, again using `plt.xlabel()` and `plt.ylabel()`.\n",
    "* Change the order that the bars appear in using `order=` to make the bars go from tallest to shortest. What if we wanted to make the bars go from lowest age rating to highest?"
   ]
  },
  {
   "cell_type": "code",
   "execution_count": null,
   "id": "c707975f-596b-4d9a-9bb1-98209bcce501",
   "metadata": {},
   "outputs": [],
   "source": [
    "sns.countplot(data=movies, x=\"age_certification\", order=[\"R\", \"PG-13\", \"PG\", \"G\", \"NC-17\"])\n",
    "\n",
    "plt.ylabel(\"Count\")\n",
    "plt.xlabel(\"MPAA Rating\")\n",
    "plt.show()"
   ]
  },
  {
   "cell_type": "markdown",
   "id": "117b3f90-3833-4c70-907d-84b7ed8d4126",
   "metadata": {},
   "source": [
    "You can also use the `hue=` keyword for `sns.countplot()`. Try creating an \"is_comedy\" column like we did last time to see if comedies and non-comedies typically have different ratings."
   ]
  },
  {
   "cell_type": "markdown",
   "id": "67246562-ae03-48e5-9288-b931fd0fae83",
   "metadata": {},
   "source": [
    "#### The Scatterplot, Revisited\n",
    "\n",
    "Let's take a look at the [Seaborn scatterplot API](https://seaborn.pydata.org/generated/seaborn.scatterplot.html). There are a *lot* of things we can fix about this plot, so we'll take it in a few pieces, the first of which don't even require us to use Seaborn, but are from Matplotlib (and I figured out how to do them by knowing what I wanted to achieve and Googling them).\n",
    "\n",
    "* First, we'll adjust the x and y axes to both be from 0.5 to 10.5, and change the labels. That's something we've done before.\n",
    "* Second, we'll set the aspect ratio of the axes to be \"equal\". What this does is force the scales to be equal on the x and y axes. So if both axes have a range of 0-10, then the plot will be square. This is something you should always do when the x and y axes should have the same value (here, the IMDB and TMDB score should be roughly the same, right?). Otherwise, it's quite pointless.\n",
    "* Third, we'll add a dashed black line showing where the two scores are equal. It's hard to tell if one is slightly larger without such a line. The arguments here are the x and y endpoints of the line, followed by a description of what the line should look like. Here, I wanted dashed, `--`, and blac`k` in color.\n",
    "\n",
    "With these changes, we can see that TMDB scores are actually slightly larger than for the IMDB! Their users must be kinder."
   ]
  },
  {
   "cell_type": "code",
   "execution_count": null,
   "id": "ac7c7b6f-81bd-4ec5-97fa-c687198bad94",
   "metadata": {},
   "outputs": [],
   "source": [
    "sns.scatterplot(data=netflix, x=\"imdb_score\", y=\"tmdb_score\")\n",
    "\n",
    "plt.ylim(0.5,10.5)\n",
    "plt.xlim(0.5,10.5)\n",
    "plt.xlabel(\"IMDB Score\")\n",
    "plt.ylabel(\"TMDB Score\")\n",
    "\n",
    "plt.gca().set_aspect('equal')\n",
    "plt.plot([0,11],[0,11], '--k')\n",
    "\n",
    "plt.show()"
   ]
  },
  {
   "cell_type": "markdown",
   "id": "2200d3e0-8ba1-42fd-be77-37fa03a630f9",
   "metadata": {},
   "source": [
    "From here, the `hue=`, `size=`, and `alpha=` keywords bear mentioning.\n",
    "* Like with the previous plots, we can use `hue=` to color the data by category.\n",
    "* In addition, `size=` will make the points different sizes based on a numeric variable.\n",
    "* `alpha=` will make the points partially transparent. `alpha=0` makes the points invisible, while `alpha=1` means completely opaque. Fractional values are in-between. This is useful when you have many overlapping points, so you can get a better feel of how dense the points are."
   ]
  },
  {
   "cell_type": "markdown",
   "id": "606befe1-2823-4398-aef9-cd7184d43dad",
   "metadata": {},
   "source": [
    "#### The Boxplot, Revisited\n",
    "\n",
    "This one's easy. Let's relabel the axes. We could add a category for `hue=`, as well."
   ]
  },
  {
   "cell_type": "code",
   "execution_count": null,
   "id": "e428fba1-1c53-47ec-906f-f031715fd555",
   "metadata": {},
   "outputs": [],
   "source": [
    "sns.boxplot(data=eightorless, x=\"seasons\", y=\"imdb_score\")\n",
    "\n",
    "plt.ylim(1,10)\n",
    "plt.xlabel(\"Number of Seasons\")\n",
    "plt.ylabel(\"IMDB Score\")\n",
    "plt.show()"
   ]
  }
 ],
 "metadata": {
  "kernelspec": {
   "display_name": "Python 3 (ipykernel)",
   "language": "python",
   "name": "python3"
  },
  "language_info": {
   "codemirror_mode": {
    "name": "ipython",
    "version": 3
   },
   "file_extension": ".py",
   "mimetype": "text/x-python",
   "name": "python",
   "nbconvert_exporter": "python",
   "pygments_lexer": "ipython3",
   "version": "3.9.12"
  }
 },
 "nbformat": 4,
 "nbformat_minor": 5
}
