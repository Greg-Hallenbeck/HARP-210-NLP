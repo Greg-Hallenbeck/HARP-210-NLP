{
 "cells": [
  {
   "cell_type": "markdown",
   "id": "68d0b0eb-3c4c-45f4-9981-9cd34bc751f2",
   "metadata": {},
   "source": [
    "# Data Manipulation in Pandas"
   ]
  },
  {
   "cell_type": "markdown",
   "id": "140492d8-b85c-4f3f-ba2c-2188aa919db2",
   "metadata": {},
   "source": [
    "## Skills\n",
    "\n",
    "1. Load data into Python using the pandas module.\n",
    "2. Select columns using `[]` and rows using `DataFrame.loc[]`.\n",
    "3. Summarize columns with basic descriptive statistics.\n",
    "4. **Summarize by category using `DataFrame.groupby()`**\n",
    "5. **Create new columns.**\n",
    "6. **Use built-in Pandas string manipulation functions.**\n",
    "7. Visualize data using Seaborn and Matplotlib."
   ]
  },
  {
   "cell_type": "markdown",
   "id": "51ac4902-92fa-49f5-8ebe-ed1323afa326",
   "metadata": {},
   "source": [
    "## Vocabulary List\n",
    "\n",
    "**indicator variable**. A column in a dataset which takes on only *True/False* values. More specifically, we will be using indicator variables in this class to store information about another column, for example:\n",
    "\n",
    "* \"Is this person taller than 6'?\" is a summary of another column, a peron's height.\n",
    "* \"Is this movie over 2 hours long?\" is a summary of another column, the length of a movie."
   ]
  },
  {
   "cell_type": "markdown",
   "id": "40bdcd7e-9c2c-4e19-aebb-c62393402ef6",
   "metadata": {},
   "source": [
    "## Preliminaries\n",
    "\n",
    "Run the following code to load in the *pandas* and *matplotlib.pyplot* libraries, as well as load in the Netflix dataset."
   ]
  },
  {
   "cell_type": "code",
   "execution_count": null,
   "id": "904893db-be69-470b-a0e8-15adba77f5fc",
   "metadata": {},
   "outputs": [],
   "source": [
    "import pandas as pd\n",
    "import matplotlib.pyplot as plt\n",
    "import seaborn as sns"
   ]
  },
  {
   "cell_type": "code",
   "execution_count": null,
   "id": "aa8da799-f8bd-42e6-bd7a-840e2edccf09",
   "metadata": {},
   "outputs": [],
   "source": [
    "netflix = pd.read_csv(\"netflix.csv\")\n",
    "\n",
    "netflix.head(3)"
   ]
  },
  {
   "cell_type": "markdown",
   "id": "5209624e-c47f-456b-822d-f55d22c28b03",
   "metadata": {},
   "source": [
    "## The `.groupby()` Function"
   ]
  },
  {
   "cell_type": "markdown",
   "id": "353aede1-690b-40c5-abaf-f8fe547b1606",
   "metadata": {},
   "source": [
    "Often, we won't just want overall statistics, but statistics for each category. For example, we might ask whether movies or TV shows tend to have higher IMDB user ratings. We *can* calculate this with the skills from the previous notebook, but it is rather tedious.\n",
    "\n",
    "First, we select all movies, and calculate their average IMDB score:"
   ]
  },
  {
   "cell_type": "code",
   "execution_count": null,
   "id": "8e194f96-39a6-4688-ab5d-5abffc1991bf",
   "metadata": {},
   "outputs": [],
   "source": [
    "netflix[ netflix[\"type\"] == \"SHOW\" ][\"imdb_score\"].mean()"
   ]
  },
  {
   "cell_type": "markdown",
   "id": "56b5c36d-5dc7-43d0-9257-c15cf1a4c327",
   "metadata": {},
   "source": [
    "Then, we select all TV shows, and calculate their average IMDB score:"
   ]
  },
  {
   "cell_type": "code",
   "execution_count": null,
   "id": "1fa81783-b094-46d0-88ab-826b4b8a60b1",
   "metadata": {},
   "outputs": [],
   "source": [
    "netflix[ netflix[\"type\"] == \"MOVIE\" ][\"imdb_score\"].mean()"
   ]
  },
  {
   "cell_type": "markdown",
   "id": "6394a160-693a-4291-ac5b-0d90c9181abc",
   "metadata": {},
   "source": [
    "Now imagine doing this when there are 5, 10, or even more categories, for example: what is the average IMDB user rating for movies from each year. Clearly this is inconvenient!\n",
    "\n",
    "The `DataFrame.groupby()` gives us a way to do this quickly and efficiently. `.groupby()` tells python to not consider individual entries in the dataframe, but to group them up based on one particular column. Since we want to get the average IMDB score based on whether it's a movie or TV show, we'll group by the `type` column:"
   ]
  },
  {
   "cell_type": "code",
   "execution_count": null,
   "id": "5d2aaa05-c037-4108-b4ef-2cae732b0433",
   "metadata": {},
   "outputs": [],
   "source": [
    "netflix.groupby(\"type\")"
   ]
  },
  {
   "cell_type": "markdown",
   "id": "f0fcd5ac-e7f2-4b26-8535-125238032532",
   "metadata": {},
   "source": [
    "There is no output when you use `.groupby()`. Instead, *pandas* is waiting for us to run some summary function on it, for example:"
   ]
  },
  {
   "cell_type": "code",
   "execution_count": null,
   "id": "7820af7e-8634-44dd-9198-b0e304fd0103",
   "metadata": {},
   "outputs": [],
   "source": [
    "netflix.groupby(\"type\").mean()"
   ]
  },
  {
   "cell_type": "markdown",
   "id": "8e18ceb5-f597-473e-83cb-c6219182239e",
   "metadata": {},
   "source": [
    "Since we were interested in just the IMDB user score, we can just select that one column using the indexing brackets `[]`, and we're done:"
   ]
  },
  {
   "cell_type": "code",
   "execution_count": null,
   "id": "59cbae8d-a6d6-44b8-94a1-a9f7b5893aa7",
   "metadata": {},
   "outputs": [],
   "source": [
    "netflix.groupby(\"type\").mean()[\"imdb_score\"]"
   ]
  },
  {
   "cell_type": "markdown",
   "id": "69ad1c0d-b0bd-42ac-92be-debbc74b3e7b",
   "metadata": {},
   "source": [
    "**Example.** As suggested above, let's calculate the average IMDB rating for movies, broken down by release year. So first, we'll narrow down the Netflix titles to movies only:"
   ]
  },
  {
   "cell_type": "code",
   "execution_count": null,
   "id": "837ad483-c044-4a97-92dc-10bdbeffc5dc",
   "metadata": {},
   "outputs": [],
   "source": [
    "movies = netflix[ netflix[\"type\"] == \"MOVIE\" ]"
   ]
  },
  {
   "cell_type": "markdown",
   "id": "af7b8f94-7beb-4e1c-96c0-f21f54fffafb",
   "metadata": {},
   "source": [
    "Then, we'll group by year released:\n",
    "\n",
    "> `movies.groupby(\"release_year\")`\n",
    "\n",
    "And then calculate the mean IMDB ratings:"
   ]
  },
  {
   "cell_type": "code",
   "execution_count": null,
   "id": "fb8f63bb-19f5-4803-a069-201a71cb47e2",
   "metadata": {},
   "outputs": [],
   "source": [
    "movies.groupby(\"release_year\").mean()[\"imdb_score\"]"
   ]
  },
  {
   "cell_type": "markdown",
   "id": "6ad37bad-804c-4019-abc7-03da02e12b0a",
   "metadata": {},
   "source": [
    "As a preview of next time, let's actually plot those to see if theres a trend in ratings over time:"
   ]
  },
  {
   "cell_type": "code",
   "execution_count": null,
   "id": "791ae4b1-b029-4192-a63c-87a2f64d62c8",
   "metadata": {},
   "outputs": [],
   "source": [
    "# Calculate ratings and put in a variable\n",
    "ratings = movies.groupby(\"release_year\").mean()[\"imdb_score\"]\n",
    "\n",
    "# Make a plot\n",
    "sns.scatterplot(x=ratings.index, y=ratings)\n",
    "\n",
    "plt.ylim(5, 8.5)\n",
    "plt.xlabel(\"Year\")\n",
    "plt.ylabel(\"Average IMDB User Rating\")\n",
    "\n",
    "plt.show()"
   ]
  },
  {
   "cell_type": "markdown",
   "id": "89a9f7cc-fe06-4545-b9ba-9e003a2a4fcc",
   "metadata": {},
   "source": [
    "It looks like there's quite a bit of scatter before the year 1990, but there's a slow downward trend in the average user rating over time.\n",
    "\n",
    "This could be due to many reasons, which we cannot tell from the plot:\n",
    "* Netflix only purchases older movies if they're very good\n",
    "* The newest movies are all Netflix originals, which may not be as good as theatrical releases.\n",
    "* Movies are getting worse over time.\n",
    "* IMDB users love old movies."
   ]
  },
  {
   "cell_type": "markdown",
   "id": "a5f07057-e017-40e7-b6f9-5995f888518f",
   "metadata": {},
   "source": [
    "## Modifying and Creating New Columns"
   ]
  },
  {
   "cell_type": "markdown",
   "id": "5b87dc63-d0f0-46c0-a1f6-96d62eca9c74",
   "metadata": {},
   "source": [
    "Rarely will a dataset have all of the information in it that we want already available. Looking at the Netflix dataset:\n",
    "\n",
    "* We have total runtime in minutes, but may want to break it down into hours and minutes.\n",
    "* Instead of IMDB and TMDB scores separately, we may want the average scores.\n",
    "* A column which indicates whether a movie was made this century, or if it is from the US or is \"foreign.\"\n",
    "* The production countries and genres are lists, while it would be much easier to have only a single value per column.\n",
    "* When we get further into text analysis, we'll want to tokenize the descriptions and titles, rather than leaving them as strings.\n",
    "\n",
    "Other issues we may see in other datasets may include:\n",
    "\n",
    "* Columns with dollar amounts will often be read in as strings (e.g. \"$4.25\") and need to be converted to floating-point numbers (4.25).\n",
    "* We may want to split full names into first and last names, or remove titles like \"Dr.\" or \"Mr.\" from them.\n",
    "\n",
    "Let's start by adding a new column telling us the runtime of a movie or show in hours. The following code does this:"
   ]
  },
  {
   "cell_type": "code",
   "execution_count": null,
   "id": "75ba6b13-5de8-4407-9354-315d00c8dcef",
   "metadata": {},
   "outputs": [],
   "source": [
    "netflix[\"runtime_hours\"] = netflix[\"runtime\"] // 60"
   ]
  },
  {
   "cell_type": "markdown",
   "id": "7c86fabb-8dc8-43d4-875f-6abaebfc4080",
   "metadata": {},
   "source": [
    "As you can see, adding a new column based on another one is simple: you just pretend that it already exists, and assign it a value. You can do standard mathematical operations (`+`, `-`, `*`, `/`, `//`, `%`), combining multiple columns as necessary. In this case, we used integer division `//` to divide the runtime in minutes by 60, and dropped any remainder.\n",
    "\n",
    "There is now a `runtime_hours` column in our DataFrame:"
   ]
  },
  {
   "cell_type": "code",
   "execution_count": null,
   "id": "1c8da5c7-6e46-4e7a-bcaf-aa93683e4d9a",
   "metadata": {},
   "outputs": [],
   "source": [
    "netflix.columns"
   ]
  },
  {
   "cell_type": "markdown",
   "id": "b7c7d713-a8e9-4d5a-99e7-73b8119d26e2",
   "metadata": {},
   "source": [
    "We can also add a `runtime_minutes` column, and make sure that everything is working as we expect."
   ]
  },
  {
   "cell_type": "code",
   "execution_count": null,
   "id": "b8864095-afa2-4675-be08-7c98c221f945",
   "metadata": {},
   "outputs": [],
   "source": [
    "netflix[\"runtime_minutes\"] = netflix[\"runtime\"] % 60\n",
    "\n",
    "netflix[ [\"runtime\", \"runtime_hours\", \"runtime_minutes\"] ].head(10)"
   ]
  },
  {
   "cell_type": "markdown",
   "id": "06ddae10-303c-4415-a7f2-95f3996de453",
   "metadata": {},
   "source": [
    "**Example.** Let's add a column which is the average review score, rather than keeping both the IMDB and TMDB user scores."
   ]
  },
  {
   "cell_type": "code",
   "execution_count": null,
   "id": "4ed9e278-7f38-4bf0-9519-21e65c91b0ec",
   "metadata": {},
   "outputs": [],
   "source": [
    "netflix[\"score\"] = ( netflix[\"imdb_score\"] + netflix[\"tmdb_score\"] ) / 2\n",
    "\n",
    "netflix[ [\"imdb_score\", \"tmdb_score\", \"score\"] ].head(6)"
   ]
  },
  {
   "cell_type": "markdown",
   "id": "d81c87ec-361c-4aa2-a03f-8a518e1ecbff",
   "metadata": {},
   "source": [
    "**Example.** Let's add an **indicator column** about the length of titles on Netflix which tells us which ones are \"long.\" For our purposes, we'll consider a movie is \"long\" if it is over 2 hours in length.\n",
    "\n",
    "Indicator columns can be added by writing any logical expression about another column, using `>`, `<`, `==`, `!=`, `>=`, `<=` and so on."
   ]
  },
  {
   "cell_type": "code",
   "execution_count": null,
   "id": "bfc4a2d7-06da-4dbf-9c3d-7e383bf790da",
   "metadata": {},
   "outputs": [],
   "source": [
    "netflix[\"is_long\"] =   netflix[\"runtime_hours\"] >= 2"
   ]
  },
  {
   "cell_type": "code",
   "execution_count": null,
   "id": "d1f939d8-e557-4419-982f-574df612a900",
   "metadata": {},
   "outputs": [],
   "source": [
    "netflix[ [\"runtime\", \"is_long\"] ].head(6)"
   ]
  },
  {
   "cell_type": "markdown",
   "id": "daf4243e-c6bf-401c-a394-2c79a9a23ae1",
   "metadata": {},
   "source": [
    "This indicator column is useful because we can now see if longer movies have different ratings from shorter movies:"
   ]
  },
  {
   "cell_type": "code",
   "execution_count": null,
   "id": "057aeb26-0015-41d0-a3cb-c322756a61df",
   "metadata": {},
   "outputs": [],
   "source": [
    "movies = netflix.loc[ netflix[\"type\"] == \"MOVIE\" ]\n",
    "movies.groupby(\"is_long\").describe()[\"score\"]"
   ]
  },
  {
   "cell_type": "markdown",
   "id": "289fd016-214d-49a5-8eae-1a706208ad5d",
   "metadata": {},
   "source": [
    "It looks like they're quite similar."
   ]
  },
  {
   "cell_type": "markdown",
   "id": "e61f8fb8-6be4-4975-bb9c-30b34ff9dc13",
   "metadata": {},
   "source": [
    "**Example.** Let's add an indicator column telling us whether a title is highly rated. Looking at the statistics for movies, it appears that 75% of all titles have a rating of 7.05 or lower, so we'll use that as the cut-off between regular movies and \"highly-rated\" ones."
   ]
  },
  {
   "cell_type": "code",
   "execution_count": null,
   "id": "deb31e5f-605f-4bd8-9969-4af1136be27c",
   "metadata": {},
   "outputs": [],
   "source": [
    "netflix.describe()[\"score\"]"
   ]
  },
  {
   "cell_type": "code",
   "execution_count": null,
   "id": "d8af6d1a-5068-44bc-9f30-9ccd91d415ef",
   "metadata": {},
   "outputs": [],
   "source": [
    "netflix[\"highly_rated\"] = netflix[\"score\"] > 7.05"
   ]
  },
  {
   "cell_type": "code",
   "execution_count": null,
   "id": "7552afa4-a34f-40f6-8526-0d0c6cff3fc6",
   "metadata": {},
   "outputs": [],
   "source": [
    "netflix[ [\"score\", \"highly_rated\"] ].head(8)"
   ]
  },
  {
   "cell_type": "markdown",
   "id": "4a6088e2-b350-48c9-8baf-b4e305ccd50d",
   "metadata": {},
   "source": [
    "## Built-In DataFrame Functions"
   ]
  },
  {
   "cell_type": "markdown",
   "id": "188eba06-d691-4b6f-8b31-08e886a294f0",
   "metadata": {},
   "source": [
    "The above section applies if you're using Python's built-in mathematical operators (`+`, `-`, and so on) and logical operators (`<`, `>`, &c.). But most of the functions for string manipulation we've used and will be using *will not work*. The reason is simple, but not obvious if you're not very familiar with Python: these functions are designed to work on a single string, float, or whatever, but not for a list or Series of them.\n",
    "\n",
    "Consider the following, which works:"
   ]
  },
  {
   "cell_type": "code",
   "execution_count": null,
   "id": "6cc1857f-9d72-4bb3-a467-90f916b9e9ec",
   "metadata": {},
   "outputs": [],
   "source": [
    "str.lower(\"HELLO\")"
   ]
  },
  {
   "cell_type": "markdown",
   "id": "4ad14f33-3aa3-4932-a14c-29e05adc4a1c",
   "metadata": {},
   "source": [
    "And this, which does not:"
   ]
  },
  {
   "cell_type": "code",
   "execution_count": null,
   "id": "bffc37a8-8234-43c3-8d45-c7b6f65bbdaa",
   "metadata": {},
   "outputs": [],
   "source": [
    "str.lower([\"HELLO\", \"HOW\", \"ARE\", \"YOU\"])"
   ]
  },
  {
   "cell_type": "markdown",
   "id": "fbc39866-0517-45fd-b77f-245bf6146336",
   "metadata": {},
   "source": [
    "Similarly, this also produces an error because, like *lists*, a Pandas *Series* object is a collection of values:"
   ]
  },
  {
   "cell_type": "code",
   "execution_count": null,
   "id": "22664496-2e08-44c3-93c7-143f3b4a89a9",
   "metadata": {},
   "outputs": [],
   "source": [
    "str.lower(netflix[\"title\"])"
   ]
  },
  {
   "cell_type": "markdown",
   "id": "3a80ae02-c021-4c11-9d61-26c5deb43e1d",
   "metadata": {},
   "source": [
    "There are two solutions to this problem:\n",
    "* Pandas has many built-in functions which duplicate string functions we've already seen. A complete list can be found [in the documentation](https://pandas.pydata.org/docs/reference/api/pandas.Series.str.lower.html)\n",
    "* Use the `DataFrame.map()` function, which we'll use to create our own more specialized data manipulation later.\n",
    "\n",
    "Let's look over a few useful built-in string functions in Pandas.\n",
    "\n",
    "First, the solution to the above example is to use `Series.str.lower()`:"
   ]
  },
  {
   "cell_type": "code",
   "execution_count": null,
   "id": "b0f58c1d-65bd-4f57-a6b1-9a81a481da1f",
   "metadata": {},
   "outputs": [],
   "source": [
    "netflix[\"title\"].str.lower()"
   ]
  },
  {
   "cell_type": "markdown",
   "id": "2903ad33-50c4-4dbb-bf99-a64c2bd5fcba",
   "metadata": {},
   "source": [
    "**Example.** How long are titles of shows on Netflix?\n",
    "\n",
    "This is a straightforward application of the `Series.str.len()` function. Let's start by calculating lengths"
   ]
  },
  {
   "cell_type": "code",
   "execution_count": null,
   "id": "baf00ab5-96f4-4446-96e2-69de88a8d16e",
   "metadata": {},
   "outputs": [],
   "source": [
    "netflix[\"title\"].str.len()"
   ]
  },
  {
   "cell_type": "markdown",
   "id": "624d809b-77e3-45a6-a68c-e7a7ab46931f",
   "metadata": {},
   "source": [
    "Now that we have this, we can simply use `.describe()` to calculate typical values:"
   ]
  },
  {
   "cell_type": "code",
   "execution_count": null,
   "id": "f4bc7502-7849-439f-9794-66813988f09b",
   "metadata": {},
   "outputs": [],
   "source": [
    "netflix[\"title\"].str.len().describe()"
   ]
  },
  {
   "cell_type": "markdown",
   "id": "de3b3cf6-7aea-4501-a240-651ee73a52ab",
   "metadata": {},
   "source": [
    "The mean length is 18 characters. The longest title is 104 characters, while the shortest is 1 character long. What are these? To do this, we use `.loc[]`."
   ]
  },
  {
   "cell_type": "code",
   "execution_count": null,
   "id": "9d9f0bca-1804-42eb-aedc-8d6cd9439cfd",
   "metadata": {},
   "outputs": [],
   "source": [
    "netflix[\"title\"].loc[ netflix[\"title\"].str.len() == 1 ]"
   ]
  },
  {
   "cell_type": "code",
   "execution_count": null,
   "id": "67acd11f-968b-477f-96a9-046e7e2d5dd2",
   "metadata": {},
   "outputs": [],
   "source": [
    "netflix[\"title\"].loc[ netflix[\"title\"].str.len() == 104 ]"
   ]
  },
  {
   "cell_type": "markdown",
   "id": "7bf53330-c10d-42eb-89f2-1c2d6597e79b",
   "metadata": {},
   "source": [
    "**Example.** How many dramas and comedies are on Netflix?\n",
    "\n",
    "The `Series.str.contains()` function will indicate whether a string contains text, similar to `.find()`. We can use this on the *genres* columns to convert them to indicators."
   ]
  },
  {
   "cell_type": "code",
   "execution_count": null,
   "id": "bacdeb29-36b7-44f1-98d6-6c4e8bec5667",
   "metadata": {},
   "outputs": [],
   "source": [
    "netflix[\"is_comedy\"] = netflix[\"genres\"].str.contains(\"comedy\")\n",
    "netflix[\"is_drama\"]  = netflix[\"genres\"].str.contains(\"drama\")"
   ]
  },
  {
   "cell_type": "code",
   "execution_count": null,
   "id": "98eff635-4979-4768-84d8-bea3713c2432",
   "metadata": {},
   "outputs": [],
   "source": [
    "netflix[ [\"genres\", \"is_comedy\", \"is_drama\"] ].head(5)"
   ]
  },
  {
   "cell_type": "markdown",
   "id": "9a4d0332-824d-4cca-abbd-27818a900e62",
   "metadata": {},
   "source": [
    "And then count them. It looks like over 900 of the titles are *both* comedy and drama!"
   ]
  },
  {
   "cell_type": "code",
   "execution_count": null,
   "id": "5ca014a5-eb39-40ac-82f3-dea70e11330e",
   "metadata": {},
   "outputs": [],
   "source": [
    "netflix.value_counts([\"is_comedy\", \"is_drama\"])"
   ]
  }
 ],
 "metadata": {
  "kernelspec": {
   "display_name": "Python 3 (ipykernel)",
   "language": "python",
   "name": "python3"
  },
  "language_info": {
   "codemirror_mode": {
    "name": "ipython",
    "version": 3
   },
   "file_extension": ".py",
   "mimetype": "text/x-python",
   "name": "python",
   "nbconvert_exporter": "python",
   "pygments_lexer": "ipython3",
   "version": "3.9.12"
  }
 },
 "nbformat": 4,
 "nbformat_minor": 5
}
